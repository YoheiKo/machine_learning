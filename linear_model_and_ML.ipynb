{
  "cells": [
    {
      "metadata": {},
      "cell_type": "markdown",
      "source": "<div style=\"font-size:16pt\" font-weight=\"bold\">Introduction to Linear regression</div><br>\nLinear regression is a model to fit a Linear relationship (function) between the observed response variable $y_n$ and corresponding independent variables $x_n$. Because we might have many observations for $y$ and $x$ pairs, they can be denoted by subscript $_n$. $y_n$ is a particular variable we are interested in and $x_n$ is the explanatory variables used to explain the $y_n$. For example, in the context of finance, $y_n$ could be returns of stock index, property prices, or credit ratings. The corresponding explanatory variables $x_n$ might be underlying macro economic data, numerical characteristics of the assets or financial ratios of companies. The Capital Asset Pricing Model (CAPM) as well as Arbitrage Pricing Theory (APT) are very important application of Linear regression in finance. APT is a multiple Linear regression.\nIn multiple Linear regression, $x_n$ can be a matrix of variables $X_n$: <br><br>\n$$\n\\hat{y_n} = X_n \\theta = \\theta_0 + \\theta_1 x_{n,1} + \\theta_2 x_{n,2} + \\dots \\theta_m x_{n,m}\n$$.<br><br>\nThere are several ways to estimate the unknown parameters $\\theta$. The most common way is to estimate them by minimizing the mean sqared error (MSE) of $\\hat{y}$ and $y$.<br><br> \n$$\nMSE = \\frac1N\\sum_{n=1}^N (y_n - \\hat{y_n})^2 = \\frac1N\\sum_{n=1}^N (\\hat{y_n}- y_n)^2 = \\frac1N\\sum_{n=1}^N (mx_n + b - y_n)^2\n$$<br>\nThe MSE can be minimized by taking the partical derivative of MSE which results in normal equaions. It can also be solved by   𝑄𝑅  factorization which is more numercial stable than normal equations or by gradient descent. The parameter value at the lowest MSE is the optimal parameters.\n\nApplication of Linear regression is not limited to predict $y_n$ from $x_n$. It can also be used to causal inference. In causal analysis, Linear regression can find the key factors among many explanatory variables which drive the target dependent variable by hypothesis testing. In multiple Linear regression, hypothesis testing can be applied to each parameter. In finance, finding the true causal macro economic factors by causal inference is a very important application of Linear regression.<br><br>\nTime series analysis is also a Linear regression. In time series analysis, explanatory variables include lag values of target dependent variable (Auto regressive model). In Finance, it is used to uncover the functional relationship between the present value of an asset and its own past value. The analysis can also be extended to other independent factors with time lags. Time series analysis is broadly applied in finance."
    },
    {
      "metadata": {},
      "cell_type": "markdown",
      "source": "<hr>"
    },
    {
      "metadata": {},
      "cell_type": "markdown",
      "source": "<div style=\"font-size:14pt\" font-weight=\"bold\">Derivation of Normal equation</div><br>"
    },
    {
      "metadata": {},
      "cell_type": "markdown",
      "source": "Linear regression can be solved by a closed-form solution called Normal equation. Normal equation can be derived from MSE. If there is N observation in total, independent vairable x and the response variable y can be written as N x 1 column vectors. A column of ones is added to X to take into account the intercept:<br><br>\n\n$$y = \n\\begin{bmatrix}\ny_1\n\\\\ y_2\n\\\\ y_3\n\\\\  .\n\\\\  .\n\\\\ y_N\n\\end{bmatrix}\n, \\: \\:\nX = \n\\begin{bmatrix}\nx_1 \\:\\: 1 \n\\\\  x_2 \\:\\: 1\n\\\\  x_3 \\:\\: 1\n\\\\  .\n\\\\  .\n\\\\ x_N \\:\\: 1\n\\end{bmatrix}$$\n\n<br><br>\nUnknown parameters m (coefficient) and b (intercept) can be stored in a 2 x 1 column vector and coule be called as $\\theta$:<br><br>\n\n$$\\theta = \n\\begin{bmatrix}\nm\n\\\\b\n\\end{bmatrix}$$\n\n<br><br>\nThe linear system $mx_n +b = y_n$ or $b + mx_n = y_n$can be written as follows:\n<br><br>\n\n$$\\begin{bmatrix}\nx_1 \\:\\: 1\n\\\\ x_2 \\:\\: 1\n\\\\ x_3 \\:\\: 1\n\\\\  .\n\\\\  .\n\\\\ x_N \\:\\: 1\n\\end{bmatrix}\n\\begin{bmatrix}\nm\n\\\\b\n\\end{bmatrix}\n\\: \\: \n= \n\\: \\: \n\\begin{bmatrix}\ny_1\n\\\\ y_2\n\\\\ y_3\n\\\\  .\n\\\\  .\n\\\\ y_N\n\\end{bmatrix}\n\\: \\: \n\\Leftrightarrow\n\\: \\: \nX \\theta = y\n\\tag{2.1}$$\n<br>\nThe normal equation $A^TA x = A^T b$ of this system can be derived from the MSE of this problem. :<br><br> \n\n$$\nMSE = \\frac1N\\sum_{n=1}^N (\\hat{y_n}- y_n)^2 = \\frac1N\\sum_{n=1}^N (mx_n + b - y_n)^2\n$$\n<br><br>\nBy the formula 2.1,\n$X \\theta = y$, where $\\theta = \\begin{bmatrix}\n    m\n    \\\\b\n    \\end{bmatrix}\n$. We can rewrite the MSE to a matrix form as follows:<br><br> \n\n$$MSE =  \\frac1N(X\\theta - y)^T(X\\theta - y) $$\n<br><br>$$= \\frac1N(X\\theta)^T X\\theta - (X\\theta)^T y - y^T(X\\theta) + y^T y$$\n<br><br>$$= \\frac1N\\theta^T X^T X\\theta - 2(X\\theta)^T y + y^T y$$\n<br><br> Our goal is optimize $\\theta$ and minimize the MSE. One way to do this is to take the derivative of MSE with respcet to $\\theta$ and set it to zero:\n<br><br>$$\\frac{\\partial MSE}{\\partial \\theta} = 2X^T X \\theta - 2 X^Ty = 0 \\Leftrightarrow X^TX \\theta = X^T y \\tag{2.2}$$\n<br><br>We derived the normal equation $X^TX \\theta = X^T y$ in 2.2. <br>By multiplying $(X^T X)^{-1}$ from the left-hand side of bosth sides, we get the solution to the unkonwn $\\theta = \\begin{bmatrix}\n    m\n    \\\\b\n    \\end{bmatrix}\n$:\n<br><br>$$ \\theta = (X^TX)^{-1}X^Ty \\: \\: \\Leftrightarrow  \\: \\: \n    \\begin{bmatrix}\n    m\n    \\\\b\n    \\end{bmatrix}\n    = (X^TX)^{-1}X^Ty\n    $$"
    },
    {
      "metadata": {},
      "cell_type": "markdown",
      "source": "<hr>"
    },
    {
      "metadata": {},
      "cell_type": "markdown",
      "source": "<div style=\"font-size:14pt\" font-weight=\"bold\">Python code for univariate linear regression as a machinel learning model</div><br>"
    },
    {
      "metadata": {
        "trusted": true
      },
      "cell_type": "code",
      "source": "# improt relevant libraries\nimport numpy as np\nimport matplotlib.pyplot as plt\n%matplotlib inline",
      "execution_count": 13,
      "outputs": []
    },
    {
      "metadata": {},
      "cell_type": "markdown",
      "source": "<div style=\"font-size:12pt\" font-weight=\"bold\">1. Generate sythetic data</div><br>\nFeature vector x is uniform distributed in the range from 0 to 10. The response variable y is computed by the following univariate formula: <br>\n<p style=\"text-align:center;\">$y = 3 + 5x + z, \\:\\:\\:  z \\sim \\mathcal{N}(0,1)$</p>"
    },
    {
      "metadata": {
        "trusted": true
      },
      "cell_type": "code",
      "source": "np.random.seed(1)\n\n# Create feature vector X which is 10 times uniform distribution between 0 and 1\nx = 10*np.random.rand(200) \n\n# Create a random term which is a standard normal distributon\nz = np.random.randn(200)",
      "execution_count": 14,
      "outputs": []
    },
    {
      "metadata": {
        "trusted": true
      },
      "cell_type": "code",
      "source": "# Compute the response variable y\ny = 3 + 5*x + z",
      "execution_count": 15,
      "outputs": []
    },
    {
      "metadata": {
        "trusted": true
      },
      "cell_type": "code",
      "source": "# plot the synthetic data\nplt.figure(figsize=(6,6))\nplt.scatter(x, y, alpha=0.5, s=15)",
      "execution_count": 16,
      "outputs": [
        {
          "output_type": "execute_result",
          "execution_count": 16,
          "data": {
            "text/plain": "<matplotlib.collections.PathCollection at 0x7f52e2925ba8>"
          },
          "metadata": {}
        },
        {
          "output_type": "display_data",
          "data": {
            "image/png": "[encoded data removed]",
            "text/plain": "<Figure size 432x432 with 1 Axes>"
          },
          "metadata": {
            "needs_background": "light"
          }
        }
      ]
    },
    {
      "metadata": {},
      "cell_type": "markdown",
      "source": "<hr>\n<div style=\"font-size:12pt\" font-weight=\"bold\">2. Split the data into training data and test data</div><br>\nSuppose we do not konw the trure relation between x and y. By looking at the scatter plot, it seems that there is a linear ralation between x and y. We want to implement linear regression to this data and find the parameters. After a model is created, the model have to be evaluted by a test data which is not used in the modeling / training. In the case of a single data set, one way to do this is to split the data into training set and test set."
    },
    {
      "metadata": {
        "trusted": true
      },
      "cell_type": "code",
      "source": "# Split the data into training set and test set\nfrom sklearn.model_selection import train_test_split\nx_train, x_test, y_train, y_test = train_test_split(x, y, test_size=0.30,random_state=0)",
      "execution_count": 17,
      "outputs": []
    },
    {
      "metadata": {},
      "cell_type": "markdown",
      "source": "<br>\n<div style=\"font-size:12pt\" font-weight=\"bold\">3.1 Solve the MSE by normal equation</div>"
    },
    {
      "metadata": {
        "trusted": true
      },
      "cell_type": "code",
      "source": "b = np.asarray(y_train)\ncol2 = np.ones(len(x_train))\nA = np.vstack((x_train,col2)).T\n\n# Normal equations\nA_normal = A\nb_normal = b.T\n\n# Solve by normal equaion\nm, b = np.linalg.inv(A_normal.T@A_normal)@(A_normal.T@b_normal)\n\n# Print the computed values of m and b should be compared with the values\nprint(m, b)",
      "execution_count": 12,
      "outputs": [
        {
          "output_type": "stream",
          "text": "4.987731502329268 3.0500555296066665\n",
          "name": "stdout"
        }
      ]
    },
    {
      "metadata": {},
      "cell_type": "markdown",
      "source": "The coefficient and the intercept of the model is very close to the true value. The difference comes from the random term z."
    },
    {
      "metadata": {},
      "cell_type": "markdown",
      "source": "<hr>\n<div style=\"font-size:12pt\" font-weight=\"bold\">3.2 Fit a linear model to the training data using Sklearn</div><br>\nScikit-learn or sklearn is a very powerful library for machine learning. In the previous step, we use sklearn to divide the dataset into training set and test set. The following four steps show how to fit a model to the training data and how to make prediction on the test data. These four steps are common in every sklearn machine learning model. \n<ol>\n    <li>Import a model from sklearn\n    <li>Set up a model instance. At this stage, the model is structured but empty. No data are feeded into.\n    <li>Fit the model to the training data by .fit method. The model learn the data and find the parameters.\n    <li>predict $\\hat{y}$ from the test set\n</ol>\n<br>\nReference: https://scikit-learn.org/stable/"
    },
    {
      "metadata": {
        "trusted": true
      },
      "cell_type": "code",
      "source": "# Step1: import linear model from sklearn\nfrom sklearn import linear_model",
      "execution_count": 13,
      "outputs": []
    },
    {
      "metadata": {
        "trusted": true
      },
      "cell_type": "code",
      "source": "# check the shape of X_train\n# 70% of the data are in the training set\nx_train.shape",
      "execution_count": 14,
      "outputs": [
        {
          "output_type": "execute_result",
          "execution_count": 14,
          "data": {
            "text/plain": "(140,)"
          },
          "metadata": {}
        }
      ]
    },
    {
      "metadata": {
        "trusted": true
      },
      "cell_type": "code",
      "source": "# To feed into sklearn model, we need to convert the 1D feature array into 2D (preprocessing)\nx_train = x_train[:,np.newaxis]\nx_train.shape",
      "execution_count": 15,
      "outputs": [
        {
          "output_type": "execute_result",
          "execution_count": 15,
          "data": {
            "text/plain": "(140, 1)"
          },
          "metadata": {}
        }
      ]
    },
    {
      "metadata": {
        "trusted": true
      },
      "cell_type": "code",
      "source": "# Step2: set up a model instance\n# fit_intercept=True is necessary to model a linar model with an intercept \nmodel = linear_model.LinearRegression(fit_intercept=True)\nmodel",
      "execution_count": 16,
      "outputs": [
        {
          "output_type": "execute_result",
          "execution_count": 16,
          "data": {
            "text/plain": "LinearRegression(copy_X=True, fit_intercept=True, n_jobs=None,\n         normalize=False)"
          },
          "metadata": {}
        }
      ]
    },
    {
      "metadata": {
        "trusted": true
      },
      "cell_type": "code",
      "source": "# Step3: fit the model to the training data by fit method\nmodel.fit(x_train, y_train)",
      "execution_count": 17,
      "outputs": [
        {
          "output_type": "execute_result",
          "execution_count": 17,
          "data": {
            "text/plain": "LinearRegression(copy_X=True, fit_intercept=True, n_jobs=None,\n         normalize=False)"
          },
          "metadata": {}
        }
      ]
    },
    {
      "metadata": {
        "trusted": true
      },
      "cell_type": "code",
      "source": "# coefficient of the linear model\nmodel.coef_",
      "execution_count": 18,
      "outputs": [
        {
          "output_type": "execute_result",
          "execution_count": 18,
          "data": {
            "text/plain": "array([4.9877315])"
          },
          "metadata": {}
        }
      ]
    },
    {
      "metadata": {
        "trusted": true
      },
      "cell_type": "code",
      "source": "# intercept of the linear model\nmodel.intercept_",
      "execution_count": 19,
      "outputs": [
        {
          "output_type": "execute_result",
          "execution_count": 19,
          "data": {
            "text/plain": "3.0500555296066665"
          },
          "metadata": {}
        }
      ]
    },
    {
      "metadata": {},
      "cell_type": "markdown",
      "source": "The coefficient and the intercept of the model is very close to the true value. The difference comes from the random term z.<br>We can predict $\\hat{y}$ from the untrained test data"
    },
    {
      "metadata": {
        "trusted": true
      },
      "cell_type": "code",
      "source": "# Step4: predict Y hat from the test set\n# To feed into sklearn model, we need to convert the 1D feature array into 2D (preprocessing)\nx_test = x_test[:,np.newaxis]\n\n# predict\ny_pred = model.predict(x_test)",
      "execution_count": 20,
      "outputs": []
    },
    {
      "metadata": {
        "trusted": true
      },
      "cell_type": "code",
      "source": "# prediction results\ny_pred",
      "execution_count": 21,
      "outputs": [
        {
          "output_type": "execute_result",
          "execution_count": 21,
          "data": {
            "text/plain": "array([10.05217909, 18.8792404 , 49.40788923,  3.19321974, 16.26353176,\n       40.59548142,  7.65565671, 14.30783132, 13.2475848 , 31.38538123,\n       23.70205647, 29.92550227, 34.458674  , 15.63538618, 47.1069917 ,\n       20.28569677, 29.64290841, 32.26615524, 44.67894309, 22.88510841,\n        6.36871657,  8.41157407, 25.38978203, 45.28760243,  8.15422207,\n       15.33040251, 21.50886165, 43.18905242,  4.46190715,  8.19869158,\n       23.86409862,  5.711636  ,  6.63993935,  9.89001851, 18.682812  ,\n       49.17699401, 16.97498784, 10.36984533, 20.45216804,  3.83917664,\n       42.98346356, 36.15835016,  7.29183245, 37.80547448, 33.2921411 ,\n       23.70820543, 22.83975183, 11.29747891, 38.53900006,  9.1023413 ,\n        9.90692466, 45.94594045, 16.03387371, 31.66364801,  3.67631411,\n       46.76199336,  7.95533154, 15.01301777, 52.37179158, 31.6855002 ])"
          },
          "metadata": {}
        }
      ]
    },
    {
      "metadata": {
        "trusted": true
      },
      "cell_type": "code",
      "source": "# corresponding true values\ny_test",
      "execution_count": 22,
      "outputs": [
        {
          "output_type": "execute_result",
          "execution_count": 22,
          "data": {
            "text/plain": "array([10.51455825, 19.52270062, 51.4093905 ,  2.28219999, 15.41988045,\n       40.39983575,  5.18209197, 14.77780349, 13.24002189, 30.44959783,\n       22.81224381, 31.48491233, 33.78003484, 17.68207055, 46.61953039,\n       22.465016  , 29.33846265, 30.84708755, 46.02450948, 24.50079145,\n        7.48211195,  8.31788197, 25.76416903, 46.96428916,  6.46600018,\n       14.57728178, 22.4603316 , 44.36005651,  4.69182371,  9.3216389 ,\n       24.11403928,  6.49213287,  7.01601599, 10.44244948, 20.86190864,\n       48.62236167, 16.09139673, 10.02767777, 20.24152265,  0.99797714,\n       42.24972195, 37.30411524,  9.78053628, 37.23390968, 36.3473302 ,\n       25.66504238, 23.27973816, 11.77045074, 38.71028613,  9.14809989,\n        9.43877852, 46.83740215, 16.45392128, 30.28735391,  3.33043713,\n       46.17254093,  9.2487988 , 15.00574063, 53.00581554, 31.14357484])"
          },
          "metadata": {}
        }
      ]
    },
    {
      "metadata": {},
      "cell_type": "markdown",
      "source": "<hr>\n<div style=\"font-size:12pt\" font-weight=\"bold\">3.3 Evaluate the prediction</div><br>\n"
    },
    {
      "metadata": {
        "trusted": true
      },
      "cell_type": "code",
      "source": "# plot the predicted value and the corresponding true value\nplt.figure(figsize=(6,6))\nplt.scatter(x_test,y_test, label= \"True value\", alpha=0.5, s=15)\nplt.scatter(x_test,y_pred, c= \"darkblue\", label= \"Predicted value\", alpha=0.5, s=15)\nplt.title(\"Out-of-sample prediction\")\nplt.legend()",
      "execution_count": 23,
      "outputs": [
        {
          "output_type": "execute_result",
          "execution_count": 23,
          "data": {
            "text/plain": "<matplotlib.legend.Legend at 0x7f5e5e4c45f8>"
          },
          "metadata": {}
        },
        {
          "output_type": "display_data",
          "data": {
            "image/png": "[encoded data removed]",
            "text/plain": "<Figure size 432x432 with 1 Axes>"
          },
          "metadata": {
            "needs_background": "light"
          }
        }
      ]
    },
    {
      "metadata": {},
      "cell_type": "markdown",
      "source": "<hr>"
    },
    {
      "metadata": {},
      "cell_type": "markdown",
      "source": "MSE is the loss function of linear regresson. A model with a lower MSE on the test set is a better model than the higher one.<br><br>\nThe MSE formula:\n$$\nMSE = \\frac1N\\sum_{n=1}^N (y_n - \\hat{y_n})^2\n$$"
    },
    {
      "metadata": {
        "trusted": true
      },
      "cell_type": "code",
      "source": "# Compute the MSE of the predicted values and the true value (The value of the loss function)\nfrom sklearn.metrics import mean_squared_error\nmean_squared_error(y_test, y_pred)",
      "execution_count": 24,
      "outputs": [
        {
          "output_type": "execute_result",
          "execution_count": 24,
          "data": {
            "text/plain": "1.4519483616955557"
          },
          "metadata": {}
        }
      ]
    },
    {
      "metadata": {
        "trusted": true
      },
      "cell_type": "code",
      "source": "# Suppose we have an inaccurate parameter estimates which results in a higher MSE\ny_poor = 6 + 4*x_test",
      "execution_count": 44,
      "outputs": []
    },
    {
      "metadata": {
        "trusted": true
      },
      "cell_type": "code",
      "source": "# plot the inaccurate predicted value and the corresponding true value\nplt.figure(figsize=(6,6))\nplt.scatter(x_test,y_test, label= \"True value\", alpha=0.5, s=15)\nplt.scatter(x_test,y_poor, c= \"darkblue\", label= \"Inaccurate estimated value\", alpha=0.5, s=15)\nplt.title(\"Out-of-sample inaccurate prediction\")\nplt.legend()",
      "execution_count": 45,
      "outputs": [
        {
          "output_type": "execute_result",
          "execution_count": 45,
          "data": {
            "text/plain": "<matplotlib.legend.Legend at 0x7f5e5dd770f0>"
          },
          "metadata": {}
        },
        {
          "output_type": "display_data",
          "data": {
            "image/png": "[encoded data removed]",
            "text/plain": "<Figure size 432x432 with 1 Axes>"
          },
          "metadata": {
            "needs_background": "light"
          }
        }
      ]
    },
    {
      "metadata": {
        "trusted": true
      },
      "cell_type": "code",
      "source": "# MSE of the inaccurate estimate\nmean_squared_error(y_test, y_poor)",
      "execution_count": 48,
      "outputs": [
        {
          "output_type": "execute_result",
          "execution_count": 48,
          "data": {
            "text/plain": "11.933696934834895"
          },
          "metadata": {}
        }
      ]
    },
    {
      "metadata": {},
      "cell_type": "markdown",
      "source": "The MSE of the inaccurate estimate is 11.93 which is higher than 1.45, the MSE of fitted model. "
    },
    {
      "metadata": {},
      "cell_type": "markdown",
      "source": "<hr>"
    },
    {
      "metadata": {},
      "cell_type": "markdown",
      "source": "$\\textrm{R}^2$ is the proportion of the variance in the response variable that can be explained by the feature variable. Note that this is not a loss function.<br>\nCompute coefficient of determination $\\textrm{R}^2$:\n\n$$\n\\textrm{R}^2 = 1 - \\frac{\\sum_{n=1}^{N} (y_n - \\hat{y_n})^{2}}{ \\sum_{n=1}^{N} (y_n - \\bar{y_n})^{2} } = 1 - \\frac{\\textrm{SS}_{res} \\textrm{ : residual sum of squares}}{\\textrm{SS}_{tot} \\textrm{ : total sum of squares}}\n$$\n"
    },
    {
      "metadata": {
        "trusted": true
      },
      "cell_type": "code",
      "source": "# Compute the R^2\nfrom sklearn.metrics import r2_score\nr2_score(y_test, y_pred)",
      "execution_count": 65,
      "outputs": [
        {
          "output_type": "execute_result",
          "execution_count": 65,
          "data": {
            "text/plain": "0.9932025177396482"
          },
          "metadata": {}
        }
      ]
    },
    {
      "metadata": {},
      "cell_type": "markdown",
      "source": "<hr>\n<br>\n<div style=\"font-size:12pt\" font-weight=\"bold\">4 Fit a linear model to the training data using gradient descent</div><br>\nLinear model can also be solved by gradient descent algorithm. Gradient descent can be implemented by pytorch or keras-tensorflow among others. In the follwoing code, we use keras.\n<br><br>\nReference: https://keras.io/"
    },
    {
      "metadata": {
        "trusted": true
      },
      "cell_type": "code",
      "source": "# import tensorflow. \n# Keras is a high level language of tensorflow and is included in the tensorflow library\nimport tensorflow as tf",
      "execution_count": 53,
      "outputs": []
    },
    {
      "metadata": {
        "trusted": true
      },
      "cell_type": "code",
      "source": "# Create the data again\n# Kerans can handle one-demensionla data. We do note have to add an extra dimension as in the case of sklearn\nfrom sklearn.model_selection import train_test_split\nx_train, x_test, y_train, y_test = train_test_split(x, y, test_size=0.30,random_state=0)",
      "execution_count": 66,
      "outputs": []
    },
    {
      "metadata": {},
      "cell_type": "markdown",
      "source": "Keras has two phases in its modeling.<br>\nThe first stage is construction phase. In the construction phase, a model is defined but no data are feeded into it."
    },
    {
      "metadata": {
        "trusted": true
      },
      "cell_type": "code",
      "source": "# Construction phase\n\n# clear any exiting model\ntf.keras.backend.clear_session()\n\n# initiate a sequential model\nmodel = tf.keras.Sequential()\n\n# add one linear layer. In this case, the input and output dimension is one \nmodel.add(tf.keras.layers.Dense(1, input_shape=[1]))\n\n# define the loss function and the optimizer\n# sgd is stochastic gradient descent\nmodel.compile(loss=\"mean_squared_error\", optimizer='sgd')",
      "execution_count": 78,
      "outputs": []
    },
    {
      "metadata": {
        "trusted": true
      },
      "cell_type": "code",
      "source": "# see the structure of the model\n# the model has signle linear layer with two parameters, intercept and coefficient\nmodel.summary()",
      "execution_count": 79,
      "outputs": [
        {
          "output_type": "stream",
          "text": "Model: \"sequential\"\n_________________________________________________________________\nLayer (type)                 Output Shape              Param #   \n=================================================================\ndense (Dense)                (None, 1)                 2         \n=================================================================\nTotal params: 2\nTrainable params: 2\nNon-trainable params: 0\n_________________________________________________________________\n",
          "name": "stdout"
        }
      ]
    },
    {
      "metadata": {},
      "cell_type": "markdown",
      "source": "The second phase is the execution phase where data are feeded into and the model estimates the parameters from the training data."
    },
    {
      "metadata": {
        "trusted": true
      },
      "cell_type": "code",
      "source": "# Execution phase\n\n# fit the model to the data\n# An epoch is one complete pass through the training data. \n# We set it to 100 which means the model will go throuhg the data 100 times.\nmodel.fit(x_train,y_train,epochs=100)",
      "execution_count": 73,
      "outputs": [
        {
          "output_type": "stream",
          "text": "Train on 140 samples\nEpoch 1/100\n140/140 [==============================] - 0s 3ms/sample - loss: 161.1075\nEpoch 2/100\n140/140 [==============================] - 0s 184us/sample - loss: 2.4048\nEpoch 3/100\n140/140 [==============================] - 0s 96us/sample - loss: 2.3167\nEpoch 4/100\n140/140 [==============================] - 0s 215us/sample - loss: 2.2633\nEpoch 5/100\n140/140 [==============================] - 0s 159us/sample - loss: 2.1977\nEpoch 6/100\n140/140 [==============================] - 0s 256us/sample - loss: 2.1230\nEpoch 7/100\n140/140 [==============================] - 0s 141us/sample - loss: 2.0629\nEpoch 8/100\n140/140 [==============================] - 0s 158us/sample - loss: 2.0093\nEpoch 9/100\n140/140 [==============================] - 0s 184us/sample - loss: 1.9965\nEpoch 10/100\n140/140 [==============================] - 0s 230us/sample - loss: 1.8782\nEpoch 11/100\n140/140 [==============================] - 0s 345us/sample - loss: 1.8514\nEpoch 12/100\n140/140 [==============================] - 0s 248us/sample - loss: 1.7977\nEpoch 13/100\n140/140 [==============================] - 0s 288us/sample - loss: 1.7707\nEpoch 14/100\n140/140 [==============================] - 0s 359us/sample - loss: 1.7217\nEpoch 15/100\n140/140 [==============================] - 0s 191us/sample - loss: 1.7129\nEpoch 16/100\n140/140 [==============================] - 0s 224us/sample - loss: 1.6571\nEpoch 17/100\n140/140 [==============================] - 0s 199us/sample - loss: 1.5966\nEpoch 18/100\n140/140 [==============================] - 0s 214us/sample - loss: 1.5922\nEpoch 19/100\n140/140 [==============================] - 0s 238us/sample - loss: 1.5330\nEpoch 20/100\n140/140 [==============================] - 0s 281us/sample - loss: 1.5306\nEpoch 21/100\n140/140 [==============================] - 0s 306us/sample - loss: 1.5109\nEpoch 22/100\n140/140 [==============================] - 0s 215us/sample - loss: 1.4588\nEpoch 23/100\n140/140 [==============================] - 0s 282us/sample - loss: 1.4550\nEpoch 24/100\n140/140 [==============================] - 0s 238us/sample - loss: 1.3968\nEpoch 25/100\n140/140 [==============================] - 0s 159us/sample - loss: 1.3688\nEpoch 26/100\n140/140 [==============================] - 0s 209us/sample - loss: 1.3547\nEpoch 27/100\n140/140 [==============================] - 0s 192us/sample - loss: 1.3275\nEpoch 28/100\n140/140 [==============================] - 0s 161us/sample - loss: 1.3102\nEpoch 29/100\n140/140 [==============================] - 0s 314us/sample - loss: 1.3065\nEpoch 30/100\n140/140 [==============================] - 0s 194us/sample - loss: 1.3350\nEpoch 31/100\n140/140 [==============================] - 0s 173us/sample - loss: 1.2821\nEpoch 32/100\n140/140 [==============================] - 0s 205us/sample - loss: 1.2639\nEpoch 33/100\n140/140 [==============================] - 0s 203us/sample - loss: 1.2267\nEpoch 34/100\n140/140 [==============================] - 0s 244us/sample - loss: 1.2045\nEpoch 35/100\n140/140 [==============================] - 0s 247us/sample - loss: 1.2489\nEpoch 36/100\n140/140 [==============================] - 0s 256us/sample - loss: 1.2094\nEpoch 37/100\n140/140 [==============================] - 0s 199us/sample - loss: 1.1878\nEpoch 38/100\n140/140 [==============================] - 0s 173us/sample - loss: 1.1637\nEpoch 39/100\n140/140 [==============================] - 0s 260us/sample - loss: 1.1955\nEpoch 40/100\n140/140 [==============================] - 0s 167us/sample - loss: 1.1553\nEpoch 41/100\n140/140 [==============================] - 0s 165us/sample - loss: 1.1510\nEpoch 42/100\n140/140 [==============================] - 0s 209us/sample - loss: 1.1439\nEpoch 43/100\n140/140 [==============================] - 0s 193us/sample - loss: 1.1064\nEpoch 44/100\n140/140 [==============================] - 0s 259us/sample - loss: 1.1076\nEpoch 45/100\n140/140 [==============================] - 0s 236us/sample - loss: 1.0816\nEpoch 46/100\n140/140 [==============================] - 0s 199us/sample - loss: 1.0893\nEpoch 47/100\n140/140 [==============================] - 0s 146us/sample - loss: 1.1306\nEpoch 48/100\n140/140 [==============================] - 0s 283us/sample - loss: 1.0768\nEpoch 49/100\n140/140 [==============================] - 0s 348us/sample - loss: 1.0748\nEpoch 50/100\n140/140 [==============================] - 0s 218us/sample - loss: 1.0470\nEpoch 51/100\n140/140 [==============================] - 0s 161us/sample - loss: 1.0456\nEpoch 52/100\n140/140 [==============================] - 0s 228us/sample - loss: 1.0288\nEpoch 53/100\n140/140 [==============================] - 0s 232us/sample - loss: 1.0652\nEpoch 54/100\n140/140 [==============================] - 0s 209us/sample - loss: 1.0164\nEpoch 55/100\n140/140 [==============================] - 0s 196us/sample - loss: 1.0332\nEpoch 56/100\n140/140 [==============================] - 0s 323us/sample - loss: 0.9990\nEpoch 57/100\n140/140 [==============================] - 0s 203us/sample - loss: 1.0024\nEpoch 58/100\n140/140 [==============================] - 0s 216us/sample - loss: 1.0014\nEpoch 59/100\n140/140 [==============================] - 0s 207us/sample - loss: 1.0133\nEpoch 60/100\n140/140 [==============================] - 0s 205us/sample - loss: 1.0050\nEpoch 61/100\n140/140 [==============================] - 0s 167us/sample - loss: 0.9884\nEpoch 62/100\n140/140 [==============================] - 0s 153us/sample - loss: 0.9981\nEpoch 63/100\n140/140 [==============================] - 0s 299us/sample - loss: 0.9788\nEpoch 64/100\n140/140 [==============================] - 0s 267us/sample - loss: 0.9651\nEpoch 65/100\n140/140 [==============================] - 0s 433us/sample - loss: 0.9962\nEpoch 66/100\n140/140 [==============================] - 0s 277us/sample - loss: 0.9883\nEpoch 67/100\n140/140 [==============================] - 0s 315us/sample - loss: 0.9826\nEpoch 68/100\n140/140 [==============================] - 0s 218us/sample - loss: 0.9535\nEpoch 69/100\n140/140 [==============================] - 0s 224us/sample - loss: 0.9608\nEpoch 70/100\n140/140 [==============================] - 0s 276us/sample - loss: 0.9613\nEpoch 71/100\n140/140 [==============================] - 0s 320us/sample - loss: 0.9556\nEpoch 72/100\n140/140 [==============================] - 0s 213us/sample - loss: 0.9432\nEpoch 73/100\n140/140 [==============================] - 0s 275us/sample - loss: 0.9506\nEpoch 74/100\n140/140 [==============================] - 0s 167us/sample - loss: 0.9581\nEpoch 75/100\n140/140 [==============================] - 0s 167us/sample - loss: 0.9573\nEpoch 76/100\n140/140 [==============================] - 0s 243us/sample - loss: 0.9782\nEpoch 77/100\n140/140 [==============================] - 0s 289us/sample - loss: 0.9822\nEpoch 78/100\n140/140 [==============================] - 0s 271us/sample - loss: 0.9304\nEpoch 79/100\n140/140 [==============================] - 0s 187us/sample - loss: 0.9579\nEpoch 80/100\n140/140 [==============================] - 0s 223us/sample - loss: 0.9544\nEpoch 81/100\n140/140 [==============================] - 0s 275us/sample - loss: 0.9466\nEpoch 82/100\n140/140 [==============================] - 0s 250us/sample - loss: 0.9658\nEpoch 83/100\n140/140 [==============================] - 0s 259us/sample - loss: 0.9924\nEpoch 84/100\n140/140 [==============================] - 0s 142us/sample - loss: 0.9280\nEpoch 85/100\n140/140 [==============================] - 0s 290us/sample - loss: 0.9237\nEpoch 86/100\n140/140 [==============================] - 0s 282us/sample - loss: 0.9487\nEpoch 87/100\n140/140 [==============================] - 0s 373us/sample - loss: 0.9331\nEpoch 88/100\n140/140 [==============================] - 0s 280us/sample - loss: 0.9398\nEpoch 89/100\n140/140 [==============================] - 0s 260us/sample - loss: 0.9592\nEpoch 90/100\n140/140 [==============================] - 0s 347us/sample - loss: 0.9305\nEpoch 91/100\n140/140 [==============================] - 0s 234us/sample - loss: 0.9292\nEpoch 92/100\n140/140 [==============================] - 0s 283us/sample - loss: 0.9071\nEpoch 93/100\n140/140 [==============================] - 0s 330us/sample - loss: 0.9290\nEpoch 94/100\n140/140 [==============================] - 0s 284us/sample - loss: 0.9237\nEpoch 95/100\n",
          "name": "stdout"
        },
        {
          "output_type": "stream",
          "text": "140/140 [==============================] - 0s 240us/sample - loss: 0.9477\nEpoch 96/100\n140/140 [==============================] - 0s 190us/sample - loss: 0.9137\nEpoch 97/100\n140/140 [==============================] - 0s 124us/sample - loss: 0.9422\nEpoch 98/100\n140/140 [==============================] - 0s 146us/sample - loss: 0.9206\nEpoch 99/100\n140/140 [==============================] - 0s 330us/sample - loss: 0.9488\nEpoch 100/100\n140/140 [==============================] - 0s 273us/sample - loss: 0.9091\n",
          "name": "stdout"
        },
        {
          "output_type": "execute_result",
          "execution_count": 73,
          "data": {
            "text/plain": "<tensorflow.python.keras.callbacks.History at 0x7f52df1bdac8>"
          },
          "metadata": {}
        }
      ]
    },
    {
      "metadata": {},
      "cell_type": "markdown",
      "source": "<hr>\nThe training is over. We can use our model to predecit responses from untrained data."
    },
    {
      "metadata": {
        "trusted": true
      },
      "cell_type": "code",
      "source": "# see the trained parameters\nmodel.get_weights()",
      "execution_count": 74,
      "outputs": [
        {
          "output_type": "execute_result",
          "execution_count": 74,
          "data": {
            "text/plain": "[array([[5.0147185]], dtype=float32), array([2.8453333], dtype=float32)]"
          },
          "metadata": {}
        }
      ]
    },
    {
      "metadata": {},
      "cell_type": "markdown",
      "source": "The trained parameters are pretty close to the true parameters"
    },
    {
      "metadata": {
        "trusted": true
      },
      "cell_type": "code",
      "source": "# predict y hat\ny_pred = model.predict(x_test)",
      "execution_count": 75,
      "outputs": []
    },
    {
      "metadata": {
        "trusted": true
      },
      "cell_type": "code",
      "source": "# Compute the MSE of the predicted values and the true value (The value of the loss function)\nfrom sklearn.metrics import mean_squared_error\nmean_squared_error(y_test, y_pred)",
      "execution_count": 76,
      "outputs": [
        {
          "output_type": "execute_result",
          "execution_count": 76,
          "data": {
            "text/plain": "1.4935925690315683"
          },
          "metadata": {}
        }
      ]
    },
    {
      "metadata": {
        "trusted": true
      },
      "cell_type": "code",
      "source": "# plot the predicted value and the corresponding true value\nplt.figure(figsize=(6,6))\nplt.scatter(x_test,y_test, label= \"True value\", alpha=0.5, s=15)\nplt.scatter(x_test,y_pred, c= \"darkblue\", label= \"Predicted value\", alpha=0.5, s=15)\nplt.title(\"Out-of-sample prediction\")\nplt.legend()",
      "execution_count": 77,
      "outputs": [
        {
          "output_type": "execute_result",
          "execution_count": 77,
          "data": {
            "text/plain": "<matplotlib.legend.Legend at 0x7f52dec7dfd0>"
          },
          "metadata": {}
        },
        {
          "output_type": "display_data",
          "data": {
            "image/png": "[encoded data removed]",
            "text/plain": "<Figure size 432x432 with 1 Axes>"
          },
          "metadata": {
            "needs_background": "light"
          }
        }
      ]
    },
    {
      "metadata": {
        "trusted": true
      },
      "cell_type": "code",
      "source": "# terminate the kernel and free memory resources\nimport os, signal\nos.kill(os.getpid(), signal.SIGKILL)",
      "execution_count": null,
      "outputs": []
    },
    {
      "metadata": {},
      "cell_type": "markdown",
      "source": "<hr>"
    }
  ],
  "metadata": {
    "kernelspec": {
      "name": "python36",
      "display_name": "Python 3.6",
      "language": "python"
    },
    "language_info": {
      "mimetype": "text/x-python",
      "nbconvert_exporter": "python",
      "name": "python",
      "pygments_lexer": "ipython3",
      "version": "3.6.6",
      "file_extension": ".py",
      "codemirror_mode": {
        "version": 3,
        "name": "ipython"
      }
    }
  },
  "nbformat": 4,
  "nbformat_minor": 2
}