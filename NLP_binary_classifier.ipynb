{
  "nbformat": 4,
  "nbformat_minor": 0,
  "metadata": {
    "colab": {
      "name": "NLP_binary_classifier.ipynb",
      "provenance": [],
      "collapsed_sections": []
    },
    "kernelspec": {
      "name": "python3",
      "display_name": "Python 3"
    }
  },
  "cells": [
    {
      "cell_type": "markdown",
      "metadata": {
        "id": "7Yx7tcHh86GC",
        "colab_type": "text"
      },
      "source": [
        "<div style='font-size:14pt' font-weight='bold'>Introduction to Binary classifier of natural languages </div><br>We ues the same kaggle dataset \"News Headlines Dataset For Sarcasm Detection\" as used in \"NLP_tokenizing_embedding.ipynb\". Each record consists of three attributes:\n",
        "<ul>\n",
        "<li>is_sarcastic: 1 if the record is sarcastic otherwise 0\n",
        "<li>headline: the headline of the news article\n",
        "<li>article_link: link to the original news article. Useful in collecting supplementary data\n",
        "</ul><br>\n",
        "The steps taken here:<br>\n",
        "<ol>\n",
        "<li>Import libraries and data\n",
        "<li>Preprocessing step 1: Split the data into training set and test set\n",
        "<li>Preprocessing step 2: Tokenizing\n",
        "<li>Preprocessing step 3: Embedding\n",
        "<li>Instantiate a model and compile the model\n",
        "<li>Fit the model to the training set\n",
        "<li>Validate the model on the test set (We do 6 and 7 at the same line of code)\n",
        "</ol>\n",
        "references:<br>\n",
        "<a href='https://www.kaggle.com/rmisra/news-headlines-dataset-for-sarcasm-detection'>kaggle competition</a>\n",
        "\n",
        "The code of this notebook is a summary of week 2 of <a href='https://www.coursera.org/learn/natural-language-processing-tensorflow'>Natural Language Processing in Tensorflow</a>."
      ]
    },
    {
      "cell_type": "markdown",
      "metadata": {
        "id": "u8V1iKebfExH",
        "colab_type": "text"
      },
      "source": [
        "<hr>"
      ]
    },
    {
      "cell_type": "markdown",
      "metadata": {
        "id": "Ie6Eo39gd_7v",
        "colab_type": "text"
      },
      "source": [
        "<div style=\"font-size:12pt\" font-weight-'bold'>1. Import libraries and data</div>"
      ]
    },
    {
      "cell_type": "code",
      "metadata": {
        "id": "mNR_Aav7MMiw",
        "colab_type": "code",
        "colab": {}
      },
      "source": [
        "# Open this notebook on google colab or kaggle so tha you can use tensorflow 2.0\n",
        "# ! pip install tensorflow==2.0\n",
        "\n",
        "# If you are working on a different environment uder tensorflow 1.x, execute the follwoing afer importing tensorflow\n",
        "# tf.enable_eager_execution()"
      ],
      "execution_count": 0,
      "outputs": []
    },
    {
      "cell_type": "code",
      "metadata": {
        "id": "k9_3oQcQLw4q",
        "colab_type": "code",
        "outputId": "b0e81e3c-36af-45a4-9d3d-68a76672f88f",
        "colab": {
          "base_uri": "https://localhost:8080/",
          "height": 35
        }
      },
      "source": [
        "# install relevant libraries\n",
        "import os\n",
        "import csv\n",
        "import json\n",
        "import zipfile\n",
        "import shutil\n",
        "import numpy as np\n",
        "import pandas as pd\n",
        "import matplotlib.pyplot as plt\n",
        "\n",
        "\n",
        "import tensorflow as tf\n",
        "from tensorflow import keras\n",
        "from tensorflow.keras.preprocessing.text import Tokenizer # Tokenizer gnerate the dictionary of words encoding \n",
        "from tensorflow.keras.preprocessing.sequence import pad_sequences\n",
        "print(tf.__version__)"
      ],
      "execution_count": 63,
      "outputs": [
        {
          "output_type": "stream",
          "text": [
            "2.0.0\n"
          ],
          "name": "stdout"
        }
      ]
    },
    {
      "cell_type": "markdown",
      "metadata": {
        "id": "zxzRr7PEZ0sb",
        "colab_type": "text"
      },
      "source": [
        "We save the kaggle zip file which is available <a href='https://www.kaggle.com/rmisra/news-headlines-dataset-for-sarcasm-detection'>here</a> (press download) to the google drive and thus want to mount on google drive from google colab. You can skip this steps if your are working on local environment or others.<br>\n",
        "<br>\n",
        "<a href='https://towardsdatascience.com/downloading-datasets-into-google-drive-via-google-colab-bcb1b30b0166'>Downloading Datasets into Google Drive via Google Colab</a>"
      ]
    },
    {
      "cell_type": "code",
      "metadata": {
        "id": "XZt-6v5SNNrQ",
        "colab_type": "code",
        "colab": {
          "base_uri": "https://localhost:8080/",
          "height": 126
        },
        "outputId": "394351d6-d84e-4bfe-a3d5-5333a716991d"
      },
      "source": [
        "# Mount on google drive from google colab\n",
        "from google.colab import drive\n",
        "drive.mount('/content/gdrive')"
      ],
      "execution_count": 5,
      "outputs": [
        {
          "output_type": "stream",
          "text": [
            "Go to this URL in a browser: https://accounts.google.com/o/oauth2/auth?client_id=947318989803-6bn6qk8qdgf4n4g3pfee6491hc0brc4i.apps.googleusercontent.com&redirect_uri=urn%3aietf%3awg%3aoauth%3a2.0%3aoob&response_type=code&scope=email%20https%3a%2f%2fwww.googleapis.com%2fauth%2fdocs.test%20https%3a%2f%2fwww.googleapis.com%2fauth%2fdrive%20https%3a%2f%2fwww.googleapis.com%2fauth%2fdrive.photos.readonly%20https%3a%2f%2fwww.googleapis.com%2fauth%2fpeopleapi.readonly\n",
            "\n",
            "Enter your authorization code:\n",
            "··········\n",
            "Mounted at /content/gdrive\n"
          ],
          "name": "stdout"
        }
      ]
    },
    {
      "cell_type": "code",
      "metadata": {
        "id": "e0IGkngvNN4f",
        "colab_type": "code",
        "colab": {}
      },
      "source": [
        "# Store the root path\n",
        "root_g_path = '/content/gdrive/My Drive/'"
      ],
      "execution_count": 0,
      "outputs": []
    },
    {
      "cell_type": "code",
      "metadata": {
        "id": "JmXymp2wNOGm",
        "colab_type": "code",
        "outputId": "53accce2-2fad-468f-c815-3e9ad7444166",
        "colab": {
          "base_uri": "https://localhost:8080/",
          "height": 106
        }
      },
      "source": [
        "# After donwloading the kaggle zip file and saving it the google drive check the directory where the file is saved \n",
        "data_path = os.path.join(root_g_path,'Coursera_NLP') \n",
        "os.listdir(data_path)"
      ],
      "execution_count": 8,
      "outputs": [
        {
          "output_type": "execute_result",
          "data": {
            "text/plain": [
              "['news-headlines-dataset-for-sarcasm-detection.zip',\n",
              " 'Sarcasm_Headlines_Dataset.json',\n",
              " 'Sarcasm_Headlines_Dataset_v2.json',\n",
              " 'NLP_tokenizing_embedding.ipynb',\n",
              " 'NLP_embedding_part2.ipynb']"
            ]
          },
          "metadata": {
            "tags": []
          },
          "execution_count": 8
        }
      ]
    },
    {
      "cell_type": "code",
      "metadata": {
        "id": "aiIl5hEKNOBb",
        "colab_type": "code",
        "colab": {}
      },
      "source": [
        "# Unzip　the data\n",
        "local_zip = os.path.join(data_path,'news-headlines-dataset-for-sarcasm-detection.zip')\n",
        "zip_ref = zipfile.ZipFile(local_zip, 'r')\n",
        "zip_ref.extractall(data_path)\n",
        "zip_ref.close()"
      ],
      "execution_count": 0,
      "outputs": []
    },
    {
      "cell_type": "code",
      "metadata": {
        "id": "Ck5D7NCwNN0W",
        "colab_type": "code",
        "outputId": "64dee02f-97c7-4920-f5bb-03d85dc2d6c5",
        "colab": {
          "base_uri": "https://localhost:8080/",
          "height": 106
        }
      },
      "source": [
        "os.listdir(data_path)"
      ],
      "execution_count": 9,
      "outputs": [
        {
          "output_type": "execute_result",
          "data": {
            "text/plain": [
              "['news-headlines-dataset-for-sarcasm-detection.zip',\n",
              " 'Sarcasm_Headlines_Dataset.json',\n",
              " 'Sarcasm_Headlines_Dataset_v2.json',\n",
              " 'NLP_tokenizing_embedding.ipynb',\n",
              " 'NLP_embedding_part2.ipynb']"
            ]
          },
          "metadata": {
            "tags": []
          },
          "execution_count": 9
        }
      ]
    },
    {
      "cell_type": "code",
      "metadata": {
        "id": "mGyV-dTGNNlz",
        "colab_type": "code",
        "colab": {}
      },
      "source": [
        "file_path = os.path.join(data_path,'Sarcasm_Headlines_Dataset_v2.json')\n",
        "\n",
        "# Open the file and pass it json.load\n",
        "\n",
        "# The common way to read json file:\n",
        "# with open(file_path, 'r') as f:\n",
        "#   datasource = json.load(f)\n",
        "\n",
        "# In this case, Extra value error occurs\n",
        "# The next code works\n",
        "# See https://stackoverflow.com/questions/21058935/python-json-loads-shows-valueerror-extra-data\n",
        "datasource = [json.loads(line) for line in open(file_path, 'r')]"
      ],
      "execution_count": 0,
      "outputs": []
    },
    {
      "cell_type": "code",
      "metadata": {
        "id": "EZF8MGqXd9li",
        "colab_type": "code",
        "colab": {}
      },
      "source": [
        "# The dataset has three set of lists\n",
        "# Create three lists \n",
        "sentences = []\n",
        "labels = []\n",
        "urls = []\n",
        "\n",
        "# Iterate through the datasource and grab each item into lists\n",
        "for item in datasource:\n",
        "  sentences.append(item['headline'])\n",
        "  labels.append(item['is_sarcastic'])\n",
        "  urls.append(item['article_link'])"
      ],
      "execution_count": 0,
      "outputs": []
    },
    {
      "cell_type": "code",
      "metadata": {
        "id": "bx5Ng83cfaip",
        "colab_type": "code",
        "outputId": "5b02303f-709d-43a0-88b6-56c3b02e89cd",
        "colab": {
          "base_uri": "https://localhost:8080/",
          "height": 195
        }
      },
      "source": [
        "# see the sentences\n",
        "sentences[:10]"
      ],
      "execution_count": 23,
      "outputs": [
        {
          "output_type": "execute_result",
          "data": {
            "text/plain": [
              "['thirtysomething scientists unveil doomsday clock of hair loss',\n",
              " 'dem rep. totally nails why congress is falling short on gender, racial equality',\n",
              " 'eat your veggies: 9 deliciously different recipes',\n",
              " 'inclement weather prevents liar from getting to work',\n",
              " \"mother comes pretty close to using word 'streaming' correctly\",\n",
              " 'my white inheritance',\n",
              " '5 ways to file your taxes with less stress',\n",
              " \"richard branson's global-warming donation nearly as much as cost of failed balloon trips\",\n",
              " 'shadow government getting too large to meet in marriott conference room b',\n",
              " 'lots of parents know this scenario']"
            ]
          },
          "metadata": {
            "tags": []
          },
          "execution_count": 23
        }
      ]
    },
    {
      "cell_type": "code",
      "metadata": {
        "id": "-A84tpGa9P9r",
        "colab_type": "code",
        "colab": {}
      },
      "source": [
        "# Set hyperparameters\n",
        "# Putting hyperparameters as separate variables is very useful in the validation\n",
        "\n",
        "vocab_size = 10000 # or 1000, original is 100000\n",
        "embedding_dim = 16 # or 32, original is 16\n",
        "max_length = 32 # or 16, original is 32\n",
        "trunc_type = 'post'\n",
        "padding_type = 'post'\n",
        "oov_token = \"<OOV>\"\n",
        "training_size = 20000 # This data set has 27,000 records. We use 20,000 for training "
      ],
      "execution_count": 0,
      "outputs": []
    },
    {
      "cell_type": "markdown",
      "metadata": {
        "id": "XaLjrcq9_8Nv",
        "colab_type": "text"
      },
      "source": [
        "<hr>"
      ]
    },
    {
      "cell_type": "markdown",
      "metadata": {
        "id": "9B_ZL72d_iD4",
        "colab_type": "text"
      },
      "source": [
        "<div style=\"font-size:12pt\" font-weight-'bold'>2. Preprocessing step 1: Split the data into training set and test set</div>"
      ]
    },
    {
      "cell_type": "code",
      "metadata": {
        "id": "uPQKH9WX9uMU",
        "colab_type": "code",
        "colab": {}
      },
      "source": [
        "training_sentences = sentences[0:training_size]\n",
        "testing_sentences = sentences[training_size:]\n",
        "\n",
        "training_labels = np.array(labels[0:training_size],dtype=float)\n",
        "testing_labels = np.array(labels[training_size:],dtype=float)"
      ],
      "execution_count": 0,
      "outputs": []
    },
    {
      "cell_type": "code",
      "metadata": {
        "id": "nYxHfSuDNO9k",
        "colab_type": "code",
        "colab": {
          "base_uri": "https://localhost:8080/",
          "height": 88
        },
        "outputId": "99433c83-03e7-46ba-ae30-6dc25e141019"
      },
      "source": [
        "print(len(training_labels))\n",
        "print(len(training_sentences))\n",
        "\n",
        "print(len(testing_labels))\n",
        "print(len(testing_sentences))"
      ],
      "execution_count": 55,
      "outputs": [
        {
          "output_type": "stream",
          "text": [
            "20000\n",
            "20000\n",
            "8619\n",
            "8619\n"
          ],
          "name": "stdout"
        }
      ]
    },
    {
      "cell_type": "code",
      "metadata": {
        "id": "hRsD3eqxGjyX",
        "colab_type": "code",
        "colab": {
          "base_uri": "https://localhost:8080/",
          "height": 195
        },
        "outputId": "a0228b75-5797-4ab8-9ee7-304b256faa37"
      },
      "source": [
        "training_sentences[:10]"
      ],
      "execution_count": 29,
      "outputs": [
        {
          "output_type": "execute_result",
          "data": {
            "text/plain": [
              "['thirtysomething scientists unveil doomsday clock of hair loss',\n",
              " 'dem rep. totally nails why congress is falling short on gender, racial equality',\n",
              " 'eat your veggies: 9 deliciously different recipes',\n",
              " 'inclement weather prevents liar from getting to work',\n",
              " \"mother comes pretty close to using word 'streaming' correctly\",\n",
              " 'my white inheritance',\n",
              " '5 ways to file your taxes with less stress',\n",
              " \"richard branson's global-warming donation nearly as much as cost of failed balloon trips\",\n",
              " 'shadow government getting too large to meet in marriott conference room b',\n",
              " 'lots of parents know this scenario']"
            ]
          },
          "metadata": {
            "tags": []
          },
          "execution_count": 29
        }
      ]
    },
    {
      "cell_type": "markdown",
      "metadata": {
        "id": "8PM79ox-H07D",
        "colab_type": "text"
      },
      "source": [
        "<hr>"
      ]
    },
    {
      "cell_type": "markdown",
      "metadata": {
        "id": "Xpmi0J4kA9sa",
        "colab_type": "text"
      },
      "source": [
        "<div style='font-size:14pt' font-weight='bold'>3. Preprocessing step 2: Tokenizing</div>"
      ]
    },
    {
      "cell_type": "code",
      "metadata": {
        "id": "OXCJOmEpAcZ4",
        "colab_type": "code",
        "colab": {}
      },
      "source": [
        "# Call Tokenizer class and create tokenizer object\n",
        "tokenizer = Tokenizer(num_words=vocab_size, oov_token=oov_token)\n",
        "\n",
        "# Fit  to the training set \n",
        "tokenizer.fit_on_texts(training_sentences)\n",
        "\n",
        "# Grab the word index\n",
        "word_index = tokenizer.word_index\n",
        "\n",
        "# Replace the words with tokens\n",
        "training_sequences = tokenizer.texts_to_sequences(training_sentences)\n",
        "# Padd or truncate the training sequences\n",
        "training_padded = pad_sequences(training_sequences, maxlen=max_length, padding=padding_type, truncating=trunc_type)\n",
        "\n",
        "# Do the same thing for the test set\n",
        "testing_sequences = tokenizer.texts_to_sequences(testing_sentences)\n",
        "testing_padded = pad_sequences(testing_sequences, maxlen=max_length, padding=padding_type, truncating=trunc_type)"
      ],
      "execution_count": 0,
      "outputs": []
    },
    {
      "cell_type": "markdown",
      "metadata": {
        "id": "wAzLikNkH9nL",
        "colab_type": "text"
      },
      "source": [
        "<hr>"
      ]
    },
    {
      "cell_type": "markdown",
      "metadata": {
        "id": "YvD03H7eH_nF",
        "colab_type": "text"
      },
      "source": [
        "<div style='font-size:14pt' font-weight='bold'>4. Preprocessing step 3: Embedding</div>\n",
        "<div style='font-size:14pt' font-weight='bold'>5. Instantiate a model and compile the model</div>"
      ]
    },
    {
      "cell_type": "code",
      "metadata": {
        "id": "TfXf6-X9HqNk",
        "colab_type": "code",
        "colab": {}
      },
      "source": [
        "# Create a model\n",
        "\n",
        "# Clear any exiting model\n",
        "tf.keras.backend.clear_session()\n",
        "\n",
        "model = tf.keras.Sequential([\n",
        "        tf.keras.layers.Embedding(vocab_size, embedding_dim, input_length=max_length),\n",
        "        tf.keras.layers.GlobalAveragePooling1D(),\n",
        "        tf.keras.layers.Dense(24, activation='relu'),\n",
        "        tf.keras.layers.Dense(1, activation='sigmoid')                     \n",
        "])\n",
        "\n",
        "# Compile the model\n",
        "model.compile(loss='binary_crossentropy', oprtimizer='adam', metrics=['acc'])"
      ],
      "execution_count": 0,
      "outputs": []
    },
    {
      "cell_type": "code",
      "metadata": {
        "id": "arQHoOmJK9qT",
        "colab_type": "code",
        "colab": {
          "base_uri": "https://localhost:8080/",
          "height": 301
        },
        "outputId": "b09000fc-bcf3-49f1-a0c8-c6a793ea354c"
      },
      "source": [
        "model.summary()"
      ],
      "execution_count": 41,
      "outputs": [
        {
          "output_type": "stream",
          "text": [
            "Model: \"sequential\"\n",
            "_________________________________________________________________\n",
            "Layer (type)                 Output Shape              Param #   \n",
            "=================================================================\n",
            "embedding (Embedding)        (None, 32, 16)            160000    \n",
            "_________________________________________________________________\n",
            "global_average_pooling1d (Gl (None, 16)                0         \n",
            "_________________________________________________________________\n",
            "dense (Dense)                (None, 24)                408       \n",
            "_________________________________________________________________\n",
            "dense_1 (Dense)              (None, 1)                 25        \n",
            "=================================================================\n",
            "Total params: 160,433\n",
            "Trainable params: 160,433\n",
            "Non-trainable params: 0\n",
            "_________________________________________________________________\n"
          ],
          "name": "stdout"
        }
      ]
    },
    {
      "cell_type": "markdown",
      "metadata": {
        "id": "qZF-mGkxf2Ks",
        "colab_type": "text"
      },
      "source": [
        "<hr>"
      ]
    },
    {
      "cell_type": "markdown",
      "metadata": {
        "id": "ncFitNJygFuO",
        "colab_type": "text"
      },
      "source": [
        "<div style='font-size:14pt' font-weight='bold'>\n",
        "6. Fit the model to the training set<br>\n",
        "7. Validate the model on the test set (We do 6 and 7 at the same line of code)\n",
        "</div>\n"
      ]
    },
    {
      "cell_type": "code",
      "metadata": {
        "id": "GUlHjRTjMQv0",
        "colab_type": "code",
        "colab": {
          "base_uri": "https://localhost:8080/",
          "height": 1000
        },
        "outputId": "027adc9b-5ce5-4674-cccd-7db266f4be7c"
      },
      "source": [
        "# Train for 30 epochs\n",
        "num_epochs = 30\n",
        "\n",
        "# Pass the padded data and labels\n",
        "# If you want to validate, give the padded test data and its labels\n",
        "history = model.fit(x=training_padded, y=training_labels, epochs=num_epochs, validation_data=(testing_padded, testing_labels), verbose=2)"
      ],
      "execution_count": 96,
      "outputs": [
        {
          "output_type": "stream",
          "text": [
            "Train on 20000 samples, validate on 8619 samples\n",
            "Epoch 1/30\n",
            "20000/20000 - 3s - loss: 0.6208 - acc: 0.6785 - val_loss: 0.4923 - val_acc: 0.7993\n",
            "Epoch 2/30\n",
            "20000/20000 - 2s - loss: 0.4089 - acc: 0.8267 - val_loss: 0.3770 - val_acc: 0.8340\n",
            "Epoch 3/30\n",
            "20000/20000 - 2s - loss: 0.3350 - acc: 0.8580 - val_loss: 0.3493 - val_acc: 0.8475\n",
            "Epoch 4/30\n",
            "20000/20000 - 2s - loss: 0.2989 - acc: 0.8742 - val_loss: 0.3404 - val_acc: 0.8514\n",
            "Epoch 5/30\n",
            "20000/20000 - 2s - loss: 0.2779 - acc: 0.8841 - val_loss: 0.3397 - val_acc: 0.8545\n",
            "Epoch 6/30\n",
            "20000/20000 - 2s - loss: 0.2635 - acc: 0.8911 - val_loss: 0.3408 - val_acc: 0.8522\n",
            "Epoch 7/30\n",
            "20000/20000 - 2s - loss: 0.2533 - acc: 0.8975 - val_loss: 0.3420 - val_acc: 0.8552\n",
            "Epoch 8/30\n",
            "20000/20000 - 2s - loss: 0.2465 - acc: 0.8991 - val_loss: 0.3482 - val_acc: 0.8500\n",
            "Epoch 9/30\n",
            "20000/20000 - 2s - loss: 0.2403 - acc: 0.9032 - val_loss: 0.3470 - val_acc: 0.8531\n",
            "Epoch 10/30\n",
            "20000/20000 - 2s - loss: 0.2362 - acc: 0.9046 - val_loss: 0.3471 - val_acc: 0.8525\n",
            "Epoch 11/30\n",
            "20000/20000 - 2s - loss: 0.2324 - acc: 0.9062 - val_loss: 0.3468 - val_acc: 0.8529\n",
            "Epoch 12/30\n",
            "20000/20000 - 2s - loss: 0.2288 - acc: 0.9095 - val_loss: 0.3484 - val_acc: 0.8517\n",
            "Epoch 13/30\n",
            "20000/20000 - 2s - loss: 0.2271 - acc: 0.9097 - val_loss: 0.3474 - val_acc: 0.8511\n",
            "Epoch 14/30\n",
            "20000/20000 - 2s - loss: 0.2248 - acc: 0.9111 - val_loss: 0.3524 - val_acc: 0.8492\n",
            "Epoch 15/30\n",
            "20000/20000 - 2s - loss: 0.2223 - acc: 0.9110 - val_loss: 0.3495 - val_acc: 0.8510\n",
            "Epoch 16/30\n",
            "20000/20000 - 2s - loss: 0.2207 - acc: 0.9114 - val_loss: 0.3558 - val_acc: 0.8495\n",
            "Epoch 17/30\n",
            "20000/20000 - 2s - loss: 0.2194 - acc: 0.9126 - val_loss: 0.3502 - val_acc: 0.8524\n",
            "Epoch 18/30\n",
            "20000/20000 - 2s - loss: 0.2182 - acc: 0.9126 - val_loss: 0.3508 - val_acc: 0.8514\n",
            "Epoch 19/30\n",
            "20000/20000 - 2s - loss: 0.2171 - acc: 0.9137 - val_loss: 0.3514 - val_acc: 0.8517\n",
            "Epoch 20/30\n",
            "20000/20000 - 2s - loss: 0.2159 - acc: 0.9155 - val_loss: 0.3541 - val_acc: 0.8516\n",
            "Epoch 21/30\n",
            "20000/20000 - 2s - loss: 0.2147 - acc: 0.9152 - val_loss: 0.3526 - val_acc: 0.8525\n",
            "Epoch 22/30\n",
            "20000/20000 - 2s - loss: 0.2143 - acc: 0.9158 - val_loss: 0.3573 - val_acc: 0.8514\n",
            "Epoch 23/30\n",
            "20000/20000 - 2s - loss: 0.2134 - acc: 0.9151 - val_loss: 0.3579 - val_acc: 0.8521\n",
            "Epoch 24/30\n",
            "20000/20000 - 2s - loss: 0.2125 - acc: 0.9164 - val_loss: 0.3560 - val_acc: 0.8511\n",
            "Epoch 25/30\n",
            "20000/20000 - 2s - loss: 0.2117 - acc: 0.9169 - val_loss: 0.3571 - val_acc: 0.8507\n",
            "Epoch 26/30\n",
            "20000/20000 - 2s - loss: 0.2110 - acc: 0.9170 - val_loss: 0.3543 - val_acc: 0.8494\n",
            "Epoch 27/30\n",
            "20000/20000 - 2s - loss: 0.2104 - acc: 0.9185 - val_loss: 0.3618 - val_acc: 0.8504\n",
            "Epoch 28/30\n",
            "20000/20000 - 2s - loss: 0.2097 - acc: 0.9179 - val_loss: 0.3570 - val_acc: 0.8520\n",
            "Epoch 29/30\n",
            "20000/20000 - 2s - loss: 0.2086 - acc: 0.9187 - val_loss: 0.3619 - val_acc: 0.8524\n",
            "Epoch 30/30\n",
            "20000/20000 - 2s - loss: 0.2083 - acc: 0.9193 - val_loss: 0.3587 - val_acc: 0.8516\n"
          ],
          "name": "stdout"
        }
      ]
    },
    {
      "cell_type": "code",
      "metadata": {
        "id": "Gh2BQVJ5RdZp",
        "colab_type": "code",
        "colab": {
          "base_uri": "https://localhost:8080/",
          "height": 35
        },
        "outputId": "36b2ad78-256b-44a0-f7bc-427189d63495"
      },
      "source": [
        "type(history)\n",
        "# history.history['acc']"
      ],
      "execution_count": 71,
      "outputs": [
        {
          "output_type": "execute_result",
          "data": {
            "text/plain": [
              "tensorflow.python.keras.callbacks.History"
            ]
          },
          "metadata": {
            "tags": []
          },
          "execution_count": 71
        }
      ]
    },
    {
      "cell_type": "code",
      "metadata": {
        "id": "Z0ItWqmqYrSg",
        "colab_type": "code",
        "colab": {
          "base_uri": "https://localhost:8080/",
          "height": 541
        },
        "outputId": "c0f0799f-0f06-4d79-c498-5ab32d0abf44"
      },
      "source": [
        "# vocab_size = 10000 \n",
        "# embedding_dim = 16 \n",
        "# max_length = 32 \n",
        "\n",
        "\n",
        "def plot_graphs(history, string):\n",
        "  plt.plot(history.history[string]) # training history\n",
        "  plt.plot(history.history['val_'+string]) # validation history\n",
        "  \n",
        "  plt.xlabel(\"Epochs\")\n",
        "  plt.ylabel(string)                          \n",
        "  \n",
        "  plt.legend([string, 'val_'+string])\n",
        "\n",
        "  plt.show()\n",
        "\n",
        "plot_graphs(history, 'acc')\n",
        "plot_graphs(history, 'loss')"
      ],
      "execution_count": 82,
      "outputs": [
        {
          "output_type": "display_data",
          "data": {
            "image/png": "[encoded data removed]",
            "text/plain": [
              "<Figure size 432x288 with 1 Axes>"
            ]
          },
          "metadata": {
            "tags": []
          }
        },
        {
          "output_type": "display_data",
          "data": {
            "image/png": "[encoded data removed]",
            "text/plain": [
              "<Figure size 432x288 with 1 Axes>"
            ]
          },
          "metadata": {
            "tags": []
          }
        }
      ]
    },
    {
      "cell_type": "markdown",
      "metadata": {
        "id": "TOXPu9b9TWAi",
        "colab_type": "text"
      },
      "source": [
        "In this case, validation loss increase. This usually happens in text data. We should try tuning the hyperparameters to solve this."
      ]
    },
    {
      "cell_type": "code",
      "metadata": {
        "id": "Hu77HQGARMpU",
        "colab_type": "code",
        "colab": {
          "base_uri": "https://localhost:8080/",
          "height": 541
        },
        "outputId": "fa5770d3-ab72-4fd0-e144-463cd8e74a11"
      },
      "source": [
        "# Plot the results\n",
        "\n",
        "# vocab_size = 10000 \n",
        "# embedding_dim = 32 \n",
        "# max_length = 32 \n",
        "\n",
        "\n",
        "def plot_graphs(history, string):\n",
        "  plt.plot(history.history[string]) # training history\n",
        "  plt.plot(history.history['val_'+string]) # validation history\n",
        "  \n",
        "  plt.xlabel(\"Epochs\")\n",
        "  plt.ylabel(string)                          \n",
        "  \n",
        "  plt.legend([string, 'val_'+string])\n",
        "\n",
        "  plt.show()\n",
        "\n",
        "plot_graphs(history, 'acc')\n",
        "plot_graphs(history, 'loss')"
      ],
      "execution_count": 72,
      "outputs": [
        {
          "output_type": "display_data",
          "data": {
            "image/png": "[encoded data removed]",
            "text/plain": [
              "<Figure size 432x288 with 1 Axes>"
            ]
          },
          "metadata": {
            "tags": []
          }
        },
        {
          "output_type": "display_data",
          "data": {
            "image/png": "[encoded data removed]",
            "text/plain": [
              "<Figure size 432x288 with 1 Axes>"
            ]
          },
          "metadata": {
            "tags": []
          }
        }
      ]
    },
    {
      "cell_type": "code",
      "metadata": {
        "id": "DjvWRX3hYBlP",
        "colab_type": "code",
        "colab": {
          "base_uri": "https://localhost:8080/",
          "height": 541
        },
        "outputId": "b5ef745f-12f0-4535-b411-e9eb800d3379"
      },
      "source": [
        "# Plot the results\n",
        "\n",
        "# vocab_size = 5000 \n",
        "# embedding_dim = 32 \n",
        "# max_length = 32 \n",
        "\n",
        "\n",
        "def plot_graphs(history, string):\n",
        "  plt.plot(history.history[string]) # training history\n",
        "  plt.plot(history.history['val_'+string]) # validation history\n",
        "  \n",
        "  plt.xlabel(\"Epochs\")\n",
        "  plt.ylabel(string)                          \n",
        "  \n",
        "  plt.legend([string, 'val_'+string])\n",
        "\n",
        "  plt.show()\n",
        "\n",
        "plot_graphs(history, 'acc')\n",
        "plot_graphs(history, 'loss')"
      ],
      "execution_count": 77,
      "outputs": [
        {
          "output_type": "display_data",
          "data": {
            "image/png": "[encoded data removed]",
            "text/plain": [
              "<Figure size 432x288 with 1 Axes>"
            ]
          },
          "metadata": {
            "tags": []
          }
        },
        {
          "output_type": "display_data",
          "data": {
            "image/png": "[encoded data removed]",
            "text/plain": [
              "<Figure size 432x288 with 1 Axes>"
            ]
          },
          "metadata": {
            "tags": []
          }
        }
      ]
    },
    {
      "cell_type": "code",
      "metadata": {
        "id": "1O0R2JDlWLWD",
        "colab_type": "code",
        "colab": {
          "base_uri": "https://localhost:8080/",
          "height": 541
        },
        "outputId": "d66a5559-7b76-470d-9d59-3f32a89fd7ab"
      },
      "source": [
        "# Plot the results\n",
        "\n",
        "# vocab_size = 1000 \n",
        "# embedding_dim = 16 \n",
        "# max_length = 16\n",
        "\n",
        "\n",
        "def plot_graphs(history, string):\n",
        "  plt.plot(history.history[string]) # training history\n",
        "  plt.plot(history.history['val_'+string]) # validation history\n",
        "  \n",
        "  plt.xlabel(\"Epochs\")\n",
        "  plt.ylabel(string)                          \n",
        "  \n",
        "  plt.legend([string, 'val_'+string])\n",
        "\n",
        "  plt.show()\n",
        "\n",
        "plot_graphs(history, 'acc')\n",
        "plot_graphs(history, 'loss')"
      ],
      "execution_count": 87,
      "outputs": [
        {
          "output_type": "display_data",
          "data": {
            "image/png": "[encoded data removed]",
            "text/plain": [
              "<Figure size 432x288 with 1 Axes>"
            ]
          },
          "metadata": {
            "tags": []
          }
        },
        {
          "output_type": "display_data",
          "data": {
            "image/png": "[encoded data removed]",
            "text/plain": [
              "<Figure size 432x288 with 1 Axes>"
            ]
          },
          "metadata": {
            "tags": []
          }
        }
      ]
    },
    {
      "cell_type": "code",
      "metadata": {
        "id": "4EP0YIdBWLOy",
        "colab_type": "code",
        "colab": {
          "base_uri": "https://localhost:8080/",
          "height": 541
        },
        "outputId": "bc60cfad-e8a3-41af-93d1-0e20f97d1f63"
      },
      "source": [
        "# Plot the results\n",
        "\n",
        "# vocab_size = 15000 \n",
        "# embedding_dim = 64 \n",
        "# max_length = 64\n",
        "\n",
        "\n",
        "def plot_graphs(history, string):\n",
        "  plt.plot(history.history[string]) # training history\n",
        "  plt.plot(history.history['val_'+string]) # validation history\n",
        "  \n",
        "  plt.xlabel(\"Epochs\")\n",
        "  plt.ylabel(string)                          \n",
        "  \n",
        "  plt.legend([string, 'val_'+string])\n",
        "\n",
        "  plt.show()\n",
        "\n",
        "plot_graphs(history, 'acc')\n",
        "plot_graphs(history, 'loss')"
      ],
      "execution_count": 92,
      "outputs": [
        {
          "output_type": "display_data",
          "data": {
            "image/png": "[encoded data removed]",
            "text/plain": [
              "<Figure size 432x288 with 1 Axes>"
            ]
          },
          "metadata": {
            "tags": []
          }
        },
        {
          "output_type": "display_data",
          "data": {
            "image/png": "[encoded data removed]",
            "text/plain": [
              "<Figure size 432x288 with 1 Axes>"
            ]
          },
          "metadata": {
            "tags": []
          }
        }
      ]
    },
    {
      "cell_type": "markdown",
      "metadata": {
        "id": "onvE06hSVecT",
        "colab_type": "text"
      },
      "source": [
        "<hr>"
      ]
    }
  ]
}