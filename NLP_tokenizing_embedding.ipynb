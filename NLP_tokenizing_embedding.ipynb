{
 "cells": [
  {
   "cell_type": "markdown",
   "metadata": {
    "colab_type": "text",
    "id": "7Yx7tcHh86GC"
   },
   "source": [
    "<div style='font-size:14pt' font-weight='bold'>Introduction to Tokenizing and Embedding </div>\n",
    "Part 1. Tokenizing<br><br>\n",
    "Tokenizing turns text to sequences of numbers. The number is the value of the corresponding word key. \n",
    "Thie code of this notebook is a summary of <a href='https://www.coursera.org/learn/natural-language-processing-tensorflow'>Natural Language Processing in Tensorflow</a>."
   ]
  },
  {
   "cell_type": "code",
   "execution_count": null,
   "metadata": {
    "colab": {},
    "colab_type": "code",
    "id": "mNR_Aav7MMiw"
   },
   "outputs": [],
   "source": [
    "# Open this notebook on google colab or kaggle so tha you can use tensorflow 2.0\n",
    "# ! pip install tensorflow==2.0\n",
    "\n",
    "# If you are working on a different environment uder tensorflow 1.x, execute the follwoing afer importin\n",
    "# tf.enable_eager_execution()"
   ]
  },
  {
   "cell_type": "code",
   "execution_count": 9,
   "metadata": {
    "colab": {
     "base_uri": "https://localhost:8080/",
     "height": 33
    },
    "colab_type": "code",
    "executionInfo": {
     "elapsed": 685,
     "status": "ok",
     "timestamp": 1578117158770,
     "user": {
      "displayName": "hurumori lion",
      "photoUrl": "https://lh3.googleusercontent.com/a-/AAuE7mB429x4hji7j0YdZdDi44hPsWJyj4ENQAE2S_ob=s64",
      "userId": "15572795402390119545"
     },
     "user_tz": -540
    },
    "id": "k9_3oQcQLw4q",
    "outputId": "756b77a5-bcdf-41d5-d7dd-fcbaf6cdfb4d"
   },
   "outputs": [
    {
     "name": "stdout",
     "output_type": "stream",
     "text": [
      "2.0.0\n"
     ]
    }
   ],
   "source": [
    "# install relevant libraries\n",
    "import os\n",
    "import csv\n",
    "import json\n",
    "import zipfile\n",
    "import shutil\n",
    "import numpy as np\n",
    "import pandas as pd\n",
    "\n",
    "import tensorflow as tf\n",
    "from tensorflow import keras\n",
    "from tensorflow.keras.preprocessing.text import Tokenizer # Tokenizer gnerate the dictionary of words encoding \n",
    "from tensorflow.keras.preprocessing.sequence import pad_sequences\n",
    "print(tf.__version__)"
   ]
  },
  {
   "cell_type": "code",
   "execution_count": null,
   "metadata": {
    "colab": {},
    "colab_type": "code",
    "id": "tW8rdVKWMR5g"
   },
   "outputs": [],
   "source": [
    "# Store sentences into a list\n",
    "# ML handles tokens/numbers represents the words in sentences, not the word itself.\n",
    "# We have to convert the words into tokens/nmbers \n",
    "sentences = [\n",
    "    'i love my dog.',\n",
    "    'I, love my cat',\n",
    "    'You love my dog!',\n",
    "    'Do you think my dog is amazing?'  \n",
    "]"
   ]
  },
  {
   "cell_type": "code",
   "execution_count": null,
   "metadata": {
    "colab": {
     "base_uri": "https://localhost:8080/",
     "height": 83
    },
    "colab_type": "code",
    "executionInfo": {
     "elapsed": 1088,
     "status": "ok",
     "timestamp": 1578012884994,
     "user": {
      "displayName": "hurumori lion",
      "photoUrl": "https://lh3.googleusercontent.com/a-/AAuE7mB429x4hji7j0YdZdDi44hPsWJyj4ENQAE2S_ob=s64",
      "userId": "15572795402390119545"
     },
     "user_tz": -540
    },
    "id": "VKAP1lrZMukW",
    "outputId": "70a9dbe2-67cb-4115-e369-2f1fbaf5900b"
   },
   "outputs": [
    {
     "data": {
      "text/plain": [
       "['i love my dog.',\n",
       " 'I, love my cat',\n",
       " 'You love my dog!',\n",
       " 'Do you think my dog is amazing?']"
      ]
     },
     "execution_count": 9,
     "metadata": {
      "tags": []
     },
     "output_type": "execute_result"
    }
   ],
   "source": [
    "sentences"
   ]
  },
  {
   "cell_type": "code",
   "execution_count": null,
   "metadata": {
    "colab": {
     "base_uri": "https://localhost:8080/",
     "height": 50
    },
    "colab_type": "code",
    "executionInfo": {
     "elapsed": 560,
     "status": "ok",
     "timestamp": 1578012886237,
     "user": {
      "displayName": "hurumori lion",
      "photoUrl": "https://lh3.googleusercontent.com/a-/AAuE7mB429x4hji7j0YdZdDi44hPsWJyj4ENQAE2S_ob=s64",
      "userId": "15572795402390119545"
     },
     "user_tz": -540
    },
    "id": "PTUlhGKkMvVr",
    "outputId": "1a0095d5-987a-4f16-b89b-9106e5ac34b3"
   },
   "outputs": [
    {
     "name": "stdout",
     "output_type": "stream",
     "text": [
      "word_index:  {'my': 1, 'love': 2, 'dog': 3, 'i': 4, 'you': 5, 'cat': 6, 'do': 7, 'think': 8, 'is': 9, 'amazing': 10}\n",
      "sequences:  [[4, 2, 1, 3], [4, 2, 1, 6], [5, 2, 1, 3], [7, 5, 8, 1, 3, 9, 10]]\n"
     ]
    }
   ],
   "source": [
    "# Create a instance of tokenizer object\n",
    "# num_words parameter set the number of words to keep\n",
    "# If the words in the daaset is higher than this number Tokenizer will pick the top 100\n",
    "tokenizer = Tokenizer(num_words=100)\n",
    "\n",
    "# .fit_on_texts on tokenizer takes in the data and encodes it. This step is called tokenize.\n",
    "tokenizer.fit_on_texts(sentences)   \n",
    "\n",
    "# Grab .word_index property of tokenizer\n",
    "# This retunrns a dictionary with key being the word and value being the encoded token \n",
    "word_index = tokenizer.word_index\n",
    "\n",
    "# Turn the list of sentences into a list of sequence of numbers\n",
    "# Sentences fed into can be different from the one used in .fit_on_texts\n",
    "sequences = tokenizer.texts_to_sequences(sentences)\n",
    "\n",
    "\n",
    "print('word_index: ', word_index)\n",
    "print('sequences: ', sequences)"
   ]
  },
  {
   "cell_type": "code",
   "execution_count": null,
   "metadata": {
    "colab": {},
    "colab_type": "code",
    "id": "8zuOlnGIOmxs"
   },
   "outputs": [],
   "source": [
    "# test on a different text\n",
    "test_data = [\n",
    "    'I really love my dog',\n",
    "    'My dog loves my manatee'\n",
    "]"
   ]
  },
  {
   "cell_type": "code",
   "execution_count": null,
   "metadata": {
    "colab": {
     "base_uri": "https://localhost:8080/",
     "height": 33
    },
    "colab_type": "code",
    "executionInfo": {
     "elapsed": 1061,
     "status": "ok",
     "timestamp": 1578012892232,
     "user": {
      "displayName": "hurumori lion",
      "photoUrl": "https://lh3.googleusercontent.com/a-/AAuE7mB429x4hji7j0YdZdDi44hPsWJyj4ENQAE2S_ob=s64",
      "userId": "15572795402390119545"
     },
     "user_tz": -540
    },
    "id": "IZza6NLbSaCa",
    "outputId": "a56c6483-7e85-4469-c602-720c3e391321"
   },
   "outputs": [
    {
     "name": "stdout",
     "output_type": "stream",
     "text": [
      "test sequences:  [[4, 2, 1, 3], [1, 3, 1]]\n"
     ]
    }
   ],
   "source": [
    "test_seq = tokenizer.texts_to_sequences(test_data)\n",
    "\n",
    "# 'really' 'loves' and 'manatee' are dropped as they are not in the word index\n",
    "print('test sequences: ', test_seq)"
   ]
  },
  {
   "cell_type": "markdown",
   "metadata": {
    "colab_type": "text",
    "id": "qSvHxtZn5Taq"
   },
   "source": [
    "<hr>"
   ]
  },
  {
   "cell_type": "markdown",
   "metadata": {
    "colab_type": "text",
    "id": "21jsguEE5P3G"
   },
   "source": [
    "<div style='font-size:14pt' font-weight='bold'>OOV(Out Of Vocabulary) token</div><br>\n",
    "oov_token replaces unseen words in a sentence with 'OOV'"
   ]
  },
  {
   "cell_type": "code",
   "execution_count": null,
   "metadata": {
    "colab": {
     "base_uri": "https://localhost:8080/",
     "height": 50
    },
    "colab_type": "code",
    "executionInfo": {
     "elapsed": 1217,
     "status": "ok",
     "timestamp": 1578013191070,
     "user": {
      "displayName": "hurumori lion",
      "photoUrl": "https://lh3.googleusercontent.com/a-/AAuE7mB429x4hji7j0YdZdDi44hPsWJyj4ENQAE2S_ob=s64",
      "userId": "15572795402390119545"
     },
     "user_tz": -540
    },
    "id": "np_A0aStSiNf",
    "outputId": "0827f24b-cf77-4c38-ce4c-4ca8c8a05bf6"
   },
   "outputs": [
    {
     "name": "stdout",
     "output_type": "stream",
     "text": [
      "word_index:  {'<OOV>': 1, 'my': 2, 'love': 3, 'dog': 4, 'i': 5, 'you': 6, 'cat': 7, 'do': 8, 'think': 9, 'is': 10, 'amazing': 11}\n",
      "test sequences:  [[5, 1, 3, 2, 4], [2, 4, 1, 2, 1]]\n"
     ]
    }
   ],
   "source": [
    "# Store sentences into a list\n",
    "sentences = [\n",
    "    'i love my dog.',\n",
    "    'I, love my cat',\n",
    "    'You love my dog!',\n",
    "    'Do you think my dog is amazing?'  \n",
    "]\n",
    "\n",
    "# Create a instance of tokenizer object with <OOV> token\n",
    "tokenizer = Tokenizer(num_words = 100, oov_token='<OOV>') \n",
    "\n",
    "# .fit_on_texts on tokenizer takes in the data and encodes it. This step is called tokenize\n",
    "tokenizer.fit_on_texts(sentences)\n",
    "\n",
    "# Grab .word_index property of tokenizer\n",
    "# This retunrns a dictionary with key being the word and value being the encoded token \n",
    "word_index = tokenizer.word_index\n",
    "\n",
    "\n",
    "# Turn the list of sentences into a list of sequence of numbers\n",
    "# Sentences fed into can be different from the one used in .fit_on_texts\n",
    "# This step is called encoding\n",
    "sequences = tokenizer.texts_to_sequences(sentences)\n",
    "\n",
    "\n",
    "# test on a different text\n",
    "test_data = [\n",
    "    'I really love my dog',\n",
    "    'My dog loves my manatee'\n",
    "]\n",
    "\n",
    "test_seq = tokenizer.texts_to_sequences(test_data)\n",
    "\n",
    "# <OOV> or 1 is assigned to 'really' 'loves' and 'manatee' as they are not in the word index\n",
    "print('word_index: ', word_index)\n",
    "print('test sequences: ', test_seq)"
   ]
  },
  {
   "cell_type": "markdown",
   "metadata": {
    "colab_type": "text",
    "id": "Ze594c5w8w76"
   },
   "source": [
    "<hr>"
   ]
  },
  {
   "cell_type": "markdown",
   "metadata": {
    "colab_type": "text",
    "id": "rL-LrTL-7luX"
   },
   "source": [
    "<div style='font-size:14pt' font-weight='bold'>Padding</div><br>\n",
    "To feed data into neural networks the data should be uniform in size. pad_sequences allows you to use sentences of different lengths by padding or truncattion."
   ]
  },
  {
   "cell_type": "code",
   "execution_count": null,
   "metadata": {
    "colab": {
     "base_uri": "https://localhost:8080/",
     "height": 167
    },
    "colab_type": "code",
    "executionInfo": {
     "elapsed": 1035,
     "status": "ok",
     "timestamp": 1578015553580,
     "user": {
      "displayName": "hurumori lion",
      "photoUrl": "https://lh3.googleusercontent.com/a-/AAuE7mB429x4hji7j0YdZdDi44hPsWJyj4ENQAE2S_ob=s64",
      "userId": "15572795402390119545"
     },
     "user_tz": -540
    },
    "id": "2sripQyG6fBe",
    "outputId": "0266a5d1-22cf-47f6-a5e7-0e0892a9cced"
   },
   "outputs": [
    {
     "name": "stdout",
     "output_type": "stream",
     "text": [
      "word_index:  {'<OOV>': 1, 'my': 2, 'love': 3, 'dog': 4, 'i': 5, 'you': 6, 'cat': 7, 'do': 8, 'think': 9, 'is': 10, 'amazing': 11} \n",
      "\n",
      "sequences:  [[5, 3, 2, 4], [5, 3, 2, 7], [6, 3, 2, 4], [8, 6, 9, 2, 4, 10, 11]] \n",
      "\n",
      "Padded sequences (begining): \n",
      " [[ 0  0  0  5  3  2  4]\n",
      " [ 0  0  0  5  3  2  7]\n",
      " [ 0  0  0  6  3  2  4]\n",
      " [ 8  6  9  2  4 10 11]]\n"
     ]
    }
   ],
   "source": [
    "# import pad_sequences\n",
    "from tensorflow.keras.preprocessing.sequence import pad_sequences\n",
    "\n",
    "# Store sentences into a list\n",
    "sentences = [\n",
    "    'i love my dog.',\n",
    "    'I, love my cat',\n",
    "    'You love my dog!',\n",
    "    'Do you think my dog is amazing?'  \n",
    "]\n",
    "\n",
    "# Create a instance of tokenizer object with oov_token token parameter. The word used here should be unique\n",
    "tokenizer = Tokenizer(num_words = 100, oov_token='<OOV>') \n",
    "\n",
    "# .fit_on_texts on tokenizer takes in the data and encodes it. This step is called tokenize\n",
    "tokenizer.fit_on_texts(sentences)\n",
    "\n",
    "# Grab .word_index property of tokenizer\n",
    "# This retunrns a dictionary with key being the word and value being the encoded token \n",
    "word_index = tokenizer.word_index\n",
    "\n",
    "# Turn the list of sentences into a list of sequence of numbers\n",
    "# Sentences fed into can be different from the one used in .fit_on_texts\n",
    "# This step is called encoding\n",
    "sequences = tokenizer.texts_to_sequences(sentences)\n",
    "\n",
    "# Pass the sequences to padsequences object \n",
    "# You can see each sentence has been padded out (They have same length)\n",
    "padded = pad_sequences(sequences)\n",
    "\n",
    "print('word_index: ', word_index, '\\n')\n",
    "print('sequences: ', sequences ,'\\n')\n",
    "print('Padded sequences (begining): \\n', padded)"
   ]
  },
  {
   "cell_type": "code",
   "execution_count": null,
   "metadata": {
    "colab": {
     "base_uri": "https://localhost:8080/",
     "height": 100
    },
    "colab_type": "code",
    "executionInfo": {
     "elapsed": 1084,
     "status": "ok",
     "timestamp": 1578015568325,
     "user": {
      "displayName": "hurumori lion",
      "photoUrl": "https://lh3.googleusercontent.com/a-/AAuE7mB429x4hji7j0YdZdDi44hPsWJyj4ENQAE2S_ob=s64",
      "userId": "15572795402390119545"
     },
     "user_tz": -540
    },
    "id": "7Rq04hFs-QIk",
    "outputId": "a0b3a265-8419-45fa-ad72-acbd5b21ee42"
   },
   "outputs": [
    {
     "name": "stdout",
     "output_type": "stream",
     "text": [
      "Padded sequences from the end: \n",
      " [[ 5  3  2  4  0  0  0]\n",
      " [ 5  3  2  7  0  0  0]\n",
      " [ 6  3  2  4  0  0  0]\n",
      " [ 8  6  9  2  4 10 11]]\n"
     ]
    }
   ],
   "source": [
    "# Padding after the sentences\n",
    "padded = pad_sequences(sequences, padding='post')\n",
    "print('Padded sequences from the end: \\n', padded)"
   ]
  },
  {
   "cell_type": "code",
   "execution_count": null,
   "metadata": {
    "colab": {
     "base_uri": "https://localhost:8080/",
     "height": 100
    },
    "colab_type": "code",
    "executionInfo": {
     "elapsed": 1048,
     "status": "ok",
     "timestamp": 1578015632641,
     "user": {
      "displayName": "hurumori lion",
      "photoUrl": "https://lh3.googleusercontent.com/a-/AAuE7mB429x4hji7j0YdZdDi44hPsWJyj4ENQAE2S_ob=s64",
      "userId": "15572795402390119545"
     },
     "user_tz": -540
    },
    "id": "4FF_TIBgBv74",
    "outputId": "0c3a3af8-14dd-45cb-abec-2b136dc91715"
   },
   "outputs": [
    {
     "name": "stdout",
     "output_type": "stream",
     "text": [
      "Padded from the end and truncated from begining of sequences: \n",
      " [[ 5  3  2  4  0]\n",
      " [ 5  3  2  7  0]\n",
      " [ 6  3  2  4  0]\n",
      " [ 9  2  4 10 11]]\n"
     ]
    }
   ],
   "source": [
    "# Set the max length of sentences\n",
    "# The long sentences lose information from the begining \n",
    "padded = pad_sequences(sequences, padding='post', maxlen=5)\n",
    "print('Padded from the end and truncated from begining of sequences: \\n', padded)"
   ]
  },
  {
   "cell_type": "code",
   "execution_count": null,
   "metadata": {
    "colab": {
     "base_uri": "https://localhost:8080/",
     "height": 100
    },
    "colab_type": "code",
    "executionInfo": {
     "elapsed": 1070,
     "status": "ok",
     "timestamp": 1578015651270,
     "user": {
      "displayName": "hurumori lion",
      "photoUrl": "https://lh3.googleusercontent.com/a-/AAuE7mB429x4hji7j0YdZdDi44hPsWJyj4ENQAE2S_ob=s64",
      "userId": "15572795402390119545"
     },
     "user_tz": -540
    },
    "id": "J33Bq6wRCIaj",
    "outputId": "ce4b4cf3-85be-4d39-c3df-231b8436f729"
   },
   "outputs": [
    {
     "name": "stdout",
     "output_type": "stream",
     "text": [
      "Padded and truncated from the end of sequences: \n",
      " [[5 3 2 4 0]\n",
      " [5 3 2 7 0]\n",
      " [6 3 2 4 0]\n",
      " [8 6 9 2 4]]\n"
     ]
    }
   ],
   "source": [
    "# Truncate from the end  \n",
    "padded = pad_sequences(sequences, padding='post', truncating='post', maxlen=5)\n",
    "print('Padded and truncated from the end of sequences: \\n', padded)"
   ]
  },
  {
   "cell_type": "markdown",
   "metadata": {
    "colab_type": "text",
    "id": "-nPy6MWWFzov"
   },
   "source": [
    "<hr>"
   ]
  },
  {
   "cell_type": "markdown",
   "metadata": {
    "colab_type": "text",
    "id": "k4SnSCN4Mr3Z"
   },
   "source": [
    "<div style='font-size:14pt' font-weight='bold'>Real-world case 1</div><br>\n",
    "The first example is tokenizing the BBC news and removing common stopwords. We can download the BBC news articles dataset from \n",
    "<a href='http://mlg.ucd.ie/datasets/bbc.html'>here</a>.\n",
    "<br>\n",
    "List of stop words are avialble <a href='https://github.com/Yoast/YoastSEO.js/blob/develop/src/config/stopwords.js'>here</a>."
   ]
  },
  {
   "cell_type": "code",
   "execution_count": null,
   "metadata": {
    "colab": {
     "base_uri": "https://localhost:8080/",
     "height": 212
    },
    "colab_type": "code",
    "executionInfo": {
     "elapsed": 2866,
     "status": "ok",
     "timestamp": 1578035453602,
     "user": {
      "displayName": "hurumori lion",
      "photoUrl": "https://lh3.googleusercontent.com/a-/AAuE7mB429x4hji7j0YdZdDi44hPsWJyj4ENQAE2S_ob=s64",
      "userId": "15572795402390119545"
     },
     "user_tz": -540
    },
    "id": "wZbzHbsAM3nh",
    "outputId": "0e1122bc-2a4a-4640-e06a-e7fb4c26bb14"
   },
   "outputs": [
    {
     "name": "stdout",
     "output_type": "stream",
     "text": [
      "--2020-01-03 07:10:50--  http://mlg.ucd.ie/files/datasets/bbc.zip\n",
      "Resolving mlg.ucd.ie (mlg.ucd.ie)... 137.43.93.132\n",
      "Connecting to mlg.ucd.ie (mlg.ucd.ie)|137.43.93.132|:80... connected.\n",
      "HTTP request sent, awaiting response... 200 OK\n",
      "Length: 884338 (864K) [application/zip]\n",
      "Saving to: ‘/tmp/bbc-text.zip’\n",
      "\n",
      "/tmp/bbc-text.zip   100%[===================>] 863.61K  --.-KB/s    in 0.1s    \n",
      "\n",
      "2020-01-03 07:10:50 (8.33 MB/s) - ‘/tmp/bbc-text.zip’ saved [884338/884338]\n",
      "\n"
     ]
    }
   ],
   "source": [
    "# download the dataset\n",
    "!wget --no-check-certificate \\\n",
    "    http://mlg.ucd.ie/files/datasets/bbc.zip \\\n",
    "    -O /tmp/bbc-text.zip"
   ]
  },
  {
   "cell_type": "code",
   "execution_count": null,
   "metadata": {
    "colab": {},
    "colab_type": "code",
    "id": "y1vFUW08M4Qs"
   },
   "outputs": [],
   "source": [
    "# os.listdir('/tmp/')"
   ]
  },
  {
   "cell_type": "code",
   "execution_count": null,
   "metadata": {
    "colab": {},
    "colab_type": "code",
    "id": "S3oQ0RlwM4kS"
   },
   "outputs": [],
   "source": [
    "# Unzip　the data\n",
    "local_zip = '/tmp/bbc-text.zip'\n",
    "zip_ref = zipfile.ZipFile(local_zip, 'r')\n",
    "zip_ref.extractall('/tmp/')\n",
    "zip_ref.close()"
   ]
  },
  {
   "cell_type": "code",
   "execution_count": null,
   "metadata": {
    "colab": {},
    "colab_type": "code",
    "id": "RR20usuyM43j"
   },
   "outputs": [],
   "source": [
    "# It turns out that the original data format is not a standard file type\n",
    "# os.listdir('/tmp/')"
   ]
  },
  {
   "cell_type": "code",
   "execution_count": null,
   "metadata": {
    "colab": {
     "base_uri": "https://localhost:8080/",
     "height": 212
    },
    "colab_type": "code",
    "executionInfo": {
     "elapsed": 3684,
     "status": "ok",
     "timestamp": 1578035990045,
     "user": {
      "displayName": "hurumori lion",
      "photoUrl": "https://lh3.googleusercontent.com/a-/AAuE7mB429x4hji7j0YdZdDi44hPsWJyj4ENQAE2S_ob=s64",
      "userId": "15572795402390119545"
     },
     "user_tz": -540
    },
    "id": "UAoi910_RaZi",
    "outputId": "1e03048d-e60a-4194-9300-bdda575223b4"
   },
   "outputs": [
    {
     "name": "stdout",
     "output_type": "stream",
     "text": [
      "--2020-01-03 07:19:45--  https://storage.googleapis.com/laurencemoroney-blog.appspot.com/bbc-text.csv\n",
      "Resolving storage.googleapis.com (storage.googleapis.com)... 173.194.79.128, 2a00:1450:4013:c02::80\n",
      "Connecting to storage.googleapis.com (storage.googleapis.com)|173.194.79.128|:443... connected.\n",
      "HTTP request sent, awaiting response... 200 OK\n",
      "Length: 5057493 (4.8M) [application/octet-stream]\n",
      "Saving to: ‘/tmp/bbc-text.csv’\n",
      "\n",
      "/tmp/bbc-text.csv   100%[===================>]   4.82M  --.-KB/s    in 0.03s   \n",
      "\n",
      "2020-01-03 07:19:45 (157 MB/s) - ‘/tmp/bbc-text.csv’ saved [5057493/5057493]\n",
      "\n"
     ]
    }
   ],
   "source": [
    "# We can download the csv format from here provided by Laurence Moroney\n",
    "# Please check his NLP course https://www.coursera.org/learn/natural-language-processing-tensorflow/home/welcome\n",
    "\n",
    "!wget --no-check-certificate \\\n",
    "    https://storage.googleapis.com/laurencemoroney-blog.appspot.com/bbc-text.csv \\\n",
    "    -O /tmp/bbc-text.csv"
   ]
  },
  {
   "cell_type": "code",
   "execution_count": null,
   "metadata": {
    "colab": {},
    "colab_type": "code",
    "id": "gFg8pz1nM5Jo"
   },
   "outputs": [],
   "source": [
    "# Store the stopwords into a list\n",
    "stopwords = [ \"a\", \"about\", \"above\", \"after\", \"again\", \"against\", \"all\", \"am\", \"an\", \"and\", \"any\", \"are\", \"as\", \"at\", \"be\", \"because\", \"been\", \"before\", \"being\", \"below\", \"between\", \"both\", \"but\", \"by\", \"could\", \"did\", \"do\", \"does\", \"doing\", \"down\", \"during\", \"each\", \"few\", \"for\", \"from\", \"further\", \"had\", \"has\", \"have\", \"having\", \"he\", \"he'd\", \"he'll\", \"he's\", \"her\", \"here\", \"here's\", \"hers\", \"herself\", \"him\", \"himself\", \"his\", \"how\", \"how's\", \"i\", \"i'd\", \"i'll\", \"i'm\", \"i've\", \"if\", \"in\", \"into\", \"is\", \"it\", \"it's\", \"its\", \"itself\", \"let's\", \"me\", \"more\", \"most\", \"my\", \"myself\", \"nor\", \"of\", \"on\", \"once\", \"only\", \"or\", \"other\", \"ought\", \"our\", \"ours\", \"ourselves\", \"out\", \"over\", \"own\", \"same\", \"she\", \"she'd\", \"she'll\", \"she's\", \"should\", \"so\", \"some\", \"such\", \"than\", \"that\", \"that's\", \"the\", \"their\", \"theirs\", \"them\", \"themselves\", \"then\", \"there\", \"there's\", \"these\", \"they\", \"they'd\", \"they'll\", \"they're\", \"they've\", \"this\", \"those\", \"through\", \"to\", \"too\", \"under\", \"until\", \"up\", \"very\", \"was\", \"we\", \"we'd\", \"we'll\", \"we're\", \"we've\", \"were\", \"what\", \"what's\", \"when\", \"when's\", \"where\", \"where's\", \"which\", \"while\", \"who\", \"who's\", \"whom\", \"why\", \"why's\", \"with\", \"would\", \"you\", \"you'd\", \"you'll\", \"you're\", \"you've\", \"your\", \"yours\", \"yourself\", \"yourselves\" ]"
   ]
  },
  {
   "cell_type": "code",
   "execution_count": null,
   "metadata": {
    "colab": {
     "base_uri": "https://localhost:8080/",
     "height": 200
    },
    "colab_type": "code",
    "executionInfo": {
     "elapsed": 979,
     "status": "ok",
     "timestamp": 1578036674197,
     "user": {
      "displayName": "hurumori lion",
      "photoUrl": "https://lh3.googleusercontent.com/a-/AAuE7mB429x4hji7j0YdZdDi44hPsWJyj4ENQAE2S_ob=s64",
      "userId": "15572795402390119545"
     },
     "user_tz": -540
    },
    "id": "qij2wYzbM5c2",
    "outputId": "597fbf68-1136-4978-af6c-cd0852c28c29"
   },
   "outputs": [
    {
     "data": {
      "text/html": [
       "<div>\n",
       "<style scoped>\n",
       "    .dataframe tbody tr th:only-of-type {\n",
       "        vertical-align: middle;\n",
       "    }\n",
       "\n",
       "    .dataframe tbody tr th {\n",
       "        vertical-align: top;\n",
       "    }\n",
       "\n",
       "    .dataframe thead th {\n",
       "        text-align: right;\n",
       "    }\n",
       "</style>\n",
       "<table border=\"1\" class=\"dataframe\">\n",
       "  <thead>\n",
       "    <tr style=\"text-align: right;\">\n",
       "      <th></th>\n",
       "      <th>category</th>\n",
       "      <th>text</th>\n",
       "    </tr>\n",
       "  </thead>\n",
       "  <tbody>\n",
       "    <tr>\n",
       "      <th>0</th>\n",
       "      <td>tech</td>\n",
       "      <td>tv future in the hands of viewers with home th...</td>\n",
       "    </tr>\n",
       "    <tr>\n",
       "      <th>1</th>\n",
       "      <td>business</td>\n",
       "      <td>worldcom boss  left books alone  former worldc...</td>\n",
       "    </tr>\n",
       "    <tr>\n",
       "      <th>2</th>\n",
       "      <td>sport</td>\n",
       "      <td>tigers wary of farrell  gamble  leicester say ...</td>\n",
       "    </tr>\n",
       "    <tr>\n",
       "      <th>3</th>\n",
       "      <td>sport</td>\n",
       "      <td>yeading face newcastle in fa cup premiership s...</td>\n",
       "    </tr>\n",
       "    <tr>\n",
       "      <th>4</th>\n",
       "      <td>entertainment</td>\n",
       "      <td>ocean s twelve raids box office ocean s twelve...</td>\n",
       "    </tr>\n",
       "  </tbody>\n",
       "</table>\n",
       "</div>"
      ],
      "text/plain": [
       "        category                                               text\n",
       "0           tech  tv future in the hands of viewers with home th...\n",
       "1       business  worldcom boss  left books alone  former worldc...\n",
       "2          sport  tigers wary of farrell  gamble  leicester say ...\n",
       "3          sport  yeading face newcastle in fa cup premiership s...\n",
       "4  entertainment  ocean s twelve raids box office ocean s twelve..."
      ]
     },
     "execution_count": 34,
     "metadata": {
      "tags": []
     },
     "output_type": "execute_result"
    }
   ],
   "source": [
    "file_path = '/tmp/bbc-text.csv'\n",
    "df = pd.read_csv(file_path)\n",
    "df.head()"
   ]
  },
  {
   "cell_type": "markdown",
   "metadata": {
    "colab_type": "text",
    "id": "bZGbDOdWOX7E"
   },
   "source": [
    "<hr>"
   ]
  },
  {
   "cell_type": "markdown",
   "metadata": {
    "colab_type": "text",
    "id": "NkE0BuUmOPgW"
   },
   "source": [
    "<div style='font-size:12pt' font-weight='bold'>Remove stop words\n",
    "</div><br>"
   ]
  },
  {
   "cell_type": "code",
   "execution_count": null,
   "metadata": {
    "colab": {
     "base_uri": "https://localhost:8080/",
     "height": 72
    },
    "colab_type": "code",
    "executionInfo": {
     "elapsed": 3272,
     "status": "ok",
     "timestamp": 1578036700404,
     "user": {
      "displayName": "hurumori lion",
      "photoUrl": "https://lh3.googleusercontent.com/a-/AAuE7mB429x4hji7j0YdZdDi44hPsWJyj4ENQAE2S_ob=s64",
      "userId": "15572795402390119545"
     },
     "user_tz": -540
    },
    "id": "YLRYsa5lOcLT",
    "outputId": "1daa9cf4-2651-4707-ca36-98383a59336e"
   },
   "outputs": [
    {
     "name": "stdout",
     "output_type": "stream",
     "text": [
      "2225\n",
      "tv future hands viewers home theatre systems plasma high-definition tvs digital video recorders moving living room way people watch tv will radically different five years time. according expert panel gathered annual consumer electronics show las vegas discuss new technologies will impact one favourite pastimes. us leading trend programmes content will delivered viewers via home networks cable satellite telecoms companies broadband service providers front rooms portable devices. one talked-about technologies ces digital personal video recorders (dvr pvr). set-top boxes like us s tivo uk s sky+ system allow people record store play pause forward wind tv programmes want. essentially technology allows much personalised tv. also built-in high-definition tv sets big business japan us slower take off europe lack high-definition programming. not can people forward wind adverts can also forget abiding network channel schedules putting together a-la-carte entertainment. us networks cable satellite companies worried means terms advertising revenues well brand identity viewer loyalty channels. although us leads technology moment also concern raised europe particularly growing uptake services like sky+. happens today will see nine months years time uk adam hume bbc broadcast s futurologist told bbc news website. likes bbc no issues lost advertising revenue yet. pressing issue moment commercial uk broadcasters brand loyalty important everyone. will talking content brands rather network brands said tim hanlon brand communications firm starcom mediavest. reality broadband connections anybody can producer content. added: challenge now hard promote programme much choice. means said stacey jolna senior vice president tv guide tv group way people find content want watch simplified tv viewers. means networks us terms channels take leaf google s book search engine future instead scheduler help people find want watch. kind channel model might work younger ipod generation used taking control gadgets play them. might not suit everyone panel recognised. older generations comfortable familiar schedules channel brands know getting. perhaps not want much choice put hands mr hanlon suggested. end kids just diapers pushing buttons already - everything possible available said mr hanlon. ultimately consumer will tell market want. 50 000 new gadgets technologies showcased ces many enhancing tv-watching experience. high-definition tv sets everywhere many new models lcd (liquid crystal display) tvs launched dvr capability built instead external boxes. one example launched show humax s 26-inch lcd tv 80-hour tivo dvr dvd recorder. one us s biggest satellite tv companies directtv even launched branded dvr show 100-hours recording capability instant replay search function. set can pause rewind tv 90 hours. microsoft chief bill gates announced pre-show keynote speech partnership tivo called tivotogo means people can play recorded programmes windows pcs mobile devices. reflect increasing trend freeing multimedia people can watch want want.\n"
     ]
    }
   ],
   "source": [
    "# Create empty list\n",
    "sentences = []\n",
    "labels = []\n",
    "\n",
    "# Read the csv file \n",
    "# This part can also be done using pandas\n",
    "with open(\"/tmp/bbc-text.csv\", 'r') as csvfile: \n",
    "    reader = csv.reader(csvfile, delimiter=',') \n",
    "    next(reader)\n",
    "    for row in reader:\n",
    "      labels.append(row[0])\n",
    "      sentence = row[1]\n",
    "\n",
    "      # remove stop words\n",
    "      for word in stopwords:\n",
    "        token = \" \" + word + \" \"\n",
    "        sentence = sentence.replace(token, \" \")\n",
    "        sentence = sentence.replace(\"  \", \" \")\n",
    "      sentences.append(sentence)\n",
    "\n",
    "print(len(sentences))\n",
    "print(sentences[0])"
   ]
  },
  {
   "cell_type": "code",
   "execution_count": null,
   "metadata": {
    "colab": {
     "base_uri": "https://localhost:8080/",
     "height": 35
    },
    "colab_type": "code",
    "executionInfo": {
     "elapsed": 1576,
     "status": "ok",
     "timestamp": 1578036703191,
     "user": {
      "displayName": "hurumori lion",
      "photoUrl": "https://lh3.googleusercontent.com/a-/AAuE7mB429x4hji7j0YdZdDi44hPsWJyj4ENQAE2S_ob=s64",
      "userId": "15572795402390119545"
     },
     "user_tz": -540
    },
    "id": "Ac4bkkPVOcdV",
    "outputId": "95528900-7dd0-4d5c-e3bd-497c5aef4c9f"
   },
   "outputs": [
    {
     "name": "stdout",
     "output_type": "stream",
     "text": [
      "29714\n"
     ]
    }
   ],
   "source": [
    "# call tokenizer object\n",
    "tokenizer = Tokenizer(oov_token='<OVV>')\n",
    "\n",
    "# tokenize\n",
    "tokenizer.fit_on_texts(sentences)\n",
    "\n",
    "# Grab .word_index property of tokenizer\n",
    "word_index = tokenizer.word_index\n",
    "\n",
    "# print the length of word_index\n",
    "print(len(word_index))"
   ]
  },
  {
   "cell_type": "code",
   "execution_count": null,
   "metadata": {
    "colab": {
     "base_uri": "https://localhost:8080/",
     "height": 52
    },
    "colab_type": "code",
    "executionInfo": {
     "elapsed": 1071,
     "status": "ok",
     "timestamp": 1578036705706,
     "user": {
      "displayName": "hurumori lion",
      "photoUrl": "https://lh3.googleusercontent.com/a-/AAuE7mB429x4hji7j0YdZdDi44hPsWJyj4ENQAE2S_ob=s64",
      "userId": "15572795402390119545"
     },
     "user_tz": -540
    },
    "id": "9nC-NWOOOcuG",
    "outputId": "08973aca-7b66-4f03-a990-b9f71f3aeca8"
   },
   "outputs": [
    {
     "name": "stdout",
     "output_type": "stream",
     "text": [
      "[  96  176 1158 ...    0    0    0]\n",
      "(2225, 2442)\n"
     ]
    }
   ],
   "source": [
    "# Encoding: Encode the sentences into sequence of numbers. \n",
    "sequences = tokenizer.texts_to_sequences(sentences)\n",
    "\n",
    "# Call pad_sequences object\n",
    "padded = pad_sequences(sequences, padding='post')\n",
    "print(padded[0])\n",
    "print(padded.shape) "
   ]
  },
  {
   "cell_type": "code",
   "execution_count": null,
   "metadata": {
    "colab": {
     "base_uri": "https://localhost:8080/",
     "height": 72
    },
    "colab_type": "code",
    "executionInfo": {
     "elapsed": 1097,
     "status": "ok",
     "timestamp": 1578036707925,
     "user": {
      "displayName": "hurumori lion",
      "photoUrl": "https://lh3.googleusercontent.com/a-/AAuE7mB429x4hji7j0YdZdDi44hPsWJyj4ENQAE2S_ob=s64",
      "userId": "15572795402390119545"
     },
     "user_tz": -540
    },
    "id": "Dg8EqmOAOdE7",
    "outputId": "c1872650-42de-42fe-aba7-982a0508069d"
   },
   "outputs": [
    {
     "name": "stdout",
     "output_type": "stream",
     "text": [
      "[[4], [2], [1], [1], [5], [3], [3], [1], [1], [5], [5], [2], [2], [3], [1], [2], [3], [1], [2], [4], [4], [4], [1], [1], [4], [1], [5], [4], [3], [5], [3], [4], [5], [5], [2], [3], [4], [5], [3], [2], [3], [1], [2], [1], [4], [5], [3], [3], [3], [2], [1], [3], [2], [2], [1], [3], [2], [1], [1], [2], [2], [1], [2], [1], [2], [4], [2], [5], [4], [2], [3], [2], [3], [1], [2], [4], [2], [1], [1], [2], [2], [1], [3], [2], [5], [3], [3], [2], [5], [2], [1], [1], [3], [1], [3], [1], [2], [1], [2], [5], [5], [1], [2], [3], [3], [4], [1], [5], [1], [4], [2], [5], [1], [5], [1], [5], [5], [3], [1], [1], [5], [3], [2], [4], [2], [2], [4], [1], [3], [1], [4], [5], [1], [2], [2], [4], [5], [4], [1], [2], [2], [2], [4], [1], [4], [2], [1], [5], [1], [4], [1], [4], [3], [2], [4], [5], [1], [2], [3], [2], [5], [3], [3], [5], [3], [2], [5], [3], [3], [5], [3], [1], [2], [3], [3], [2], [5], [1], [2], [2], [1], [4], [1], [4], [4], [1], [2], [1], [3], [5], [3], [2], [3], [2], [4], [3], [5], [3], [4], [2], [1], [2], [1], [4], [5], [2], [3], [3], [5], [1], [5], [3], [1], [5], [1], [1], [5], [1], [3], [3], [5], [4], [1], [3], [2], [5], [4], [1], [4], [1], [5], [3], [1], [5], [4], [2], [4], [2], [2], [4], [2], [1], [2], [1], [2], [1], [5], [2], [2], [5], [1], [1], [3], [4], [3], [3], [3], [4], [1], [4], [3], [2], [4], [5], [4], [1], [1], [2], [2], [3], [2], [4], [1], [5], [1], [3], [4], [5], [2], [1], [5], [1], [4], [3], [4], [2], [2], [3], [3], [1], [2], [4], [5], [3], [4], [2], [5], [1], [5], [1], [5], [3], [2], [1], [2], [1], [1], [5], [1], [3], [3], [2], [5], [4], [2], [1], [2], [5], [2], [2], [2], [3], [2], [3], [5], [5], [2], [1], [2], [3], [2], [4], [5], [2], [1], [1], [5], [2], [2], [3], [4], [5], [4], [3], [2], [1], [3], [2], [5], [4], [5], [4], [3], [1], [5], [2], [3], [2], [2], [3], [1], [4], [2], [2], [5], [5], [4], [1], [2], [5], [4], [4], [5], [5], [5], [3], [1], [3], [4], [2], [5], [3], [2], [5], [3], [3], [1], [1], [2], [3], [5], [2], [1], [2], [2], [1], [2], [3], [3], [3], [1], [4], [4], [2], [4], [1], [5], [2], [3], [2], [5], [2], [3], [5], [3], [2], [4], [2], [1], [1], [2], [1], [1], [5], [1], [1], [1], [4], [2], [2], [2], [3], [1], [1], [2], [4], [2], [3], [1], [3], [4], [2], [1], [5], [2], [3], [4], [2], [1], [2], [3], [2], [2], [1], [5], [4], [3], [4], [2], [1], [2], [5], [4], [4], [2], [1], [1], [5], [3], [3], [3], [1], [3], [4], [4], [5], [3], [4], [5], [2], [1], [1], [4], [2], [1], [1], [3], [1], [1], [2], [1], [5], [4], [3], [1], [3], [4], [2], [2], [2], [4], [2], [2], [1], [1], [1], [1], [2], [4], [5], [1], [1], [4], [2], [4], [5], [3], [1], [2], [3], [2], [4], [4], [3], [4], [2], [1], [2], [5], [1], [3], [5], [1], [1], [3], [4], [5], [4], [1], [3], [2], [5], [3], [2], [5], [1], [1], [4], [3], [5], [3], [5], [3], [4], [3], [5], [1], [2], [1], [5], [1], [5], [4], [2], [1], [3], [5], [3], [5], [5], [5], [3], [5], [4], [3], [4], [4], [1], [1], [4], [4], [1], [5], [5], [1], [4], [5], [1], [1], [4], [2], [3], [4], [2], [1], [5], [1], [5], [3], [4], [5], [5], [2], [5], [5], [1], [4], [4], [3], [1], [4], [1], [3], [3], [5], [4], [2], [4], [4], [4], [2], [3], [3], [1], [4], [2], [2], [5], [5], [1], [4], [2], [4], [5], [1], [4], [3], [4], [3], [2], [3], [3], [2], [1], [4], [1], [4], [3], [5], [4], [1], [5], [4], [1], [3], [5], [1], [4], [1], [1], [3], [5], [2], [3], [5], [2], [2], [4], [2], [5], [4], [1], [4], [3], [4], [3], [2], [3], [5], [1], [2], [2], [2], [5], [1], [2], [5], [5], [1], [5], [3], [3], [3], [1], [1], [1], [4], [3], [1], [3], [3], [4], [3], [1], [2], [5], [1], [2], [2], [4], [2], [5], [5], [5], [2], [5], [5], [3], [4], [2], [1], [4], [1], [1], [3], [2], [1], [4], [2], [1], [4], [1], [1], [5], [1], [2], [1], [2], [4], [3], [4], [2], [1], [1], [2], [2], [2], [2], [3], [1], [2], [4], [2], [1], [3], [2], [4], [2], [1], [2], [3], [5], [1], [2], [3], [2], [5], [2], [2], [2], [1], [3], [5], [1], [3], [1], [3], [3], [2], [2], [1], [4], [5], [1], [5], [2], [2], [2], [4], [1], [4], [3], [4], [4], [4], [1], [4], [4], [5], [5], [4], [1], [5], [4], [1], [1], [2], [5], [4], [2], [1], [2], [3], [2], [5], [4], [2], [3], [2], [4], [1], [2], [5], [2], [3], [1], [5], [3], [1], [2], [1], [3], [3], [1], [5], [5], [2], [2], [1], [4], [4], [1], [5], [4], [4], [2], [1], [5], [4], [1], [1], [2], [5], [2], [2], [2], [5], [1], [5], [4], [4], [4], [3], [4], [4], [5], [5], [1], [1], [3], [2], [5], [1], [3], [5], [4], [3], [4], [4], [2], [5], [3], [4], [3], [3], [1], [3], [3], [5], [4], [1], [3], [1], [5], [3], [2], [2], [3], [1], [1], [1], [5], [4], [4], [2], [5], [1], [3], [4], [3], [5], [4], [4], [2], [2], [1], [2], [2], [4], [3], [5], [2], [2], [2], [2], [2], [4], [1], [3], [4], [4], [2], [2], [5], [3], [5], [1], [4], [1], [5], [1], [4], [1], [2], [1], [3], [3], [5], [2], [1], [3], [3], [1], [5], [3], [2], [4], [1], [2], [2], [2], [5], [5], [4], [4], [2], [2], [5], [1], [2], [5], [4], [4], [2], [2], [1], [1], [1], [3], [3], [1], [3], [1], [2], [5], [1], [4], [5], [1], [1], [2], [2], [4], [4], [1], [5], [1], [5], [1], [5], [3], [5], [5], [4], [5], [2], [2], [3], [1], [3], [4], [2], [3], [1], [3], [1], [5], [1], [3], [1], [1], [4], [5], [1], [3], [1], [1], [2], [4], [5], [3], [4], [5], [3], [5], [3], [5], [5], [4], [5], [3], [5], [5], [4], [4], [1], [1], [5], [5], [4], [5], [3], [4], [5], [2], [4], [1], [2], [5], [5], [4], [5], [4], [2], [5], [1], [5], [2], [1], [2], [1], [3], [4], [5], [3], [2], [5], [5], [3], [2], [5], [1], [3], [1], [2], [2], [2], [2], [2], [5], [4], [1], [5], [5], [2], [1], [4], [4], [5], [1], [2], [3], [2], [3], [2], [2], [5], [3], [2], [2], [4], [3], [1], [4], [5], [3], [2], [2], [1], [5], [3], [4], [2], [2], [3], [2], [1], [5], [1], [5], [4], [3], [2], [2], [4], [2], [2], [1], [2], [4], [5], [3], [2], [3], [2], [1], [4], [2], [3], [5], [4], [2], [5], [1], [3], [3], [1], [3], [2], [4], [5], [1], [1], [4], [2], [1], [5], [4], [1], [3], [1], [2], [2], [2], [3], [5], [1], [3], [4], [2], [2], [4], [5], [5], [4], [4], [1], [1], [5], [4], [5], [1], [3], [4], [2], [1], [5], [2], [2], [5], [1], [2], [1], [4], [3], [3], [4], [5], [3], [5], [2], [2], [3], [1], [4], [1], [1], [1], [3], [2], [1], [2], [4], [1], [2], [2], [1], [3], [4], [1], [2], [4], [1], [1], [2], [2], [2], [2], [3], [5], [4], [2], [2], [1], [2], [5], [2], [5], [1], [3], [2], [2], [4], [5], [2], [2], [2], [3], [2], [3], [4], [5], [3], [5], [1], [4], [3], [2], [4], [1], [2], [2], [5], [4], [2], [2], [1], [1], [5], [1], [3], [1], [2], [1], [2], [3], [3], [2], [3], [4], [5], [1], [2], [5], [1], [3], [3], [4], [5], [2], [3], [3], [1], [4], [2], [1], [5], [1], [5], [1], [2], [1], [3], [5], [4], [2], [1], [3], [4], [1], [5], [2], [1], [5], [1], [4], [1], [4], [3], [1], [2], [5], [4], [4], [3], [4], [5], [4], [1], [2], [4], [2], [5], [1], [4], [3], [3], [3], [3], [5], [5], [5], [2], [3], [3], [1], [1], [4], [1], [3], [2], [2], [4], [1], [4], [2], [4], [3], [3], [1], [2], [3], [1], [2], [4], [2], [2], [5], [5], [1], [2], [4], [4], [3], [2], [3], [1], [5], [5], [3], [3], [2], [2], [4], [4], [1], [1], [3], [4], [1], [4], [2], [1], [2], [3], [1], [5], [2], [4], [3], [5], [4], [2], [1], [5], [4], [4], [5], [3], [4], [5], [1], [5], [1], [1], [1], [3], [4], [1], [2], [1], [1], [2], [4], [1], [2], [5], [3], [4], [1], [3], [4], [5], [3], [1], [3], [4], [2], [5], [1], [3], [2], [4], [4], [4], [3], [2], [1], [3], [5], [4], [5], [1], [4], [2], [3], [5], [4], [3], [1], [1], [2], [5], [2], [2], [3], [2], [2], [3], [4], [5], [3], [5], [5], [2], [3], [1], [3], [5], [1], [5], [3], [5], [5], [5], [2], [1], [3], [1], [5], [4], [4], [2], [3], [5], [2], [1], [2], [3], [3], [2], [1], [4], [4], [4], [2], [3], [3], [2], [1], [1], [5], [2], [1], [1], [3], [3], [3], [5], [3], [2], [4], [2], [3], [5], [5], [2], [1], [3], [5], [1], [5], [3], [3], [2], [3], [1], [5], [5], [4], [4], [4], [4], [3], [4], [2], [4], [1], [1], [5], [2], [4], [5], [2], [4], [1], [4], [5], [5], [3], [3], [1], [2], [2], [4], [5], [1], [3], [2], [4], [5], [3], [1], [5], [3], [3], [4], [1], [3], [2], [3], [5], [4], [1], [3], [5], [5], [2], [1], [4], [4], [1], [5], [4], [3], [4], [1], [3], [3], [1], [5], [1], [3], [1], [4], [5], [1], [5], [2], [2], [5], [5], [5], [4], [1], [2], [2], [3], [3], [2], [3], [5], [1], [1], [4], [3], [1], [2], [1], [2], [4], [1], [1], [2], [5], [1], [1], [4], [1], [2], [3], [2], [5], [4], [5], [3], [2], [5], [3], [5], [3], [3], [2], [1], [1], [1], [4], [4], [1], [3], [5], [4], [1], [5], [2], [5], [3], [2], [1], [4], [2], [1], [3], [2], [5], [5], [5], [3], [5], [3], [5], [1], [5], [1], [3], [3], [2], [3], [4], [1], [4], [1], [2], [3], [4], [5], [5], [3], [5], [3], [1], [1], [3], [2], [4], [1], [3], [3], [5], [1], [3], [3], [2], [4], [4], [2], [4], [1], [1], [2], [3], [2], [4], [1], [4], [3], [5], [1], [2], [1], [5], [4], [4], [1], [3], [1], [2], [1], [2], [1], [1], [5], [5], [2], [4], [4], [2], [4], [2], [2], [1], [1], [3], [1], [4], [1], [4], [1], [1], [2], [2], [4], [1], [2], [4], [4], [3], [1], [2], [5], [5], [4], [3], [1], [1], [4], [2], [4], [5], [5], [3], [3], [2], [5], [1], [5], [5], [2], [1], [3], [4], [2], [1], [5], [4], [3], [3], [1], [1], [2], [2], [2], [2], [2], [5], [2], [3], [3], [4], [4], [5], [3], [5], [2], [3], [1], [1], [2], [4], [2], [4], [1], [2], [2], [3], [1], [1], [3], [3], [5], [5], [3], [2], [3], [3], [2], [4], [3], [3], [3], [3], [3], [5], [5], [4], [3], [1], [3], [1], [4], [1], [1], [1], [5], [4], [5], [4], [1], [4], [1], [1], [5], [5], [2], [5], [5], [3], [2], [1], [4], [4], [3], [2], [1], [2], [5], [1], [3], [5], [1], [1], [2], [3], [4], [4], [2], [2], [1], [3], [5], [1], [1], [3], [5], [4], [1], [5], [2], [3], [1], [3], [4], [5], [1], [3], [2], [5], [3], [5], [3], [1], [3], [2], [2], [3], [2], [4], [1], [2], [5], [2], [1], [1], [5], [4], [3], [4], [3], [3], [1], [1], [1], [2], [4], [5], [2], [1], [2], [1], [2], [4], [2], [2], [2], [2], [1], [1], [1], [2], [2], [5], [2], [2], [2], [1], [1], [1], [4], [2], [1], [1], [1], [2], [5], [4], [4], [4], [3], [2], [2], [4], [2], [4], [1], [1], [3], [3], [3], [1], [1], [3], [3], [4], [2], [1], [1], [1], [1], [2], [1], [2], [2], [2], [2], [1], [3], [1], [4], [4], [1], [4], [2], [5], [2], [1], [2], [4], [4], [3], [5], [2], [5], [2], [4], [3], [5], [3], [5], [5], [4], [2], [4], [4], [2], [3], [1], [5], [2], [3], [5], [2], [4], [1], [4], [3], [1], [3], [2], [3], [3], [2], [2], [2], [4], [3], [2], [3], [2], [5], [3], [1], [3], [3], [1], [5], [4], [4], [2], [4], [1], [2], [2], [3], [1], [4], [4], [4], [1], [5], [1], [3], [2], [3], [3], [5], [4], [2], [4], [1], [5], [5], [1], [2], [5], [4], [4], [1], [5], [2], [3], [3], [3], [4], [4], [2], [3], [2], [3], [3], [5], [1], [4], [2], [4], [5], [4], [4], [1], [3], [1], [1], [3], [5], [5], [2], [3], [3], [1], [2], [2], [4], [2], [4], [4], [1], [2], [3], [1], [2], [2], [1], [4], [1], [4], [5], [1], [1], [5], [2], [4], [1], [1], [3], [4], [2], [3], [1], [1], [3], [5], [4], [4], [4], [2], [1], [5], [5], [4], [2], [3], [4], [1], [1], [4], [4], [3], [2], [1], [5], [5], [1], [5], [4], [4], [2], [2], [2], [1], [1], [4], [1], [2], [4], [2], [2], [1], [2], [3], [2], [2], [4], [2], [4], [3], [4], [5], [3], [4], [5], [1], [3], [5], [2], [4], [2], [4], [5], [4], [1], [2], [2], [3], [5], [3], [1]]\n",
      "{'sport': 1, 'business': 2, 'politics': 3, 'tech': 4, 'entertainment': 5}\n"
     ]
    }
   ],
   "source": [
    "# Tokenize the labels\n",
    "\n",
    "label_tokenizer = Tokenizer()\n",
    "label_tokenizer.fit_on_texts(labels)\n",
    "label_word_index = label_tokenizer.word_index\n",
    "label_seq = label_tokenizer.texts_to_sequences(labels)\n",
    "\n",
    "# See the tokenized labels of the dataset \n",
    "print(label_seq)\n",
    "\n",
    "# See the tokens of labels \n",
    "print(label_word_index)"
   ]
  },
  {
   "cell_type": "markdown",
   "metadata": {
    "colab_type": "text",
    "id": "ui4nvRY4UGD9"
   },
   "source": [
    "<hr>"
   ]
  },
  {
   "cell_type": "markdown",
   "metadata": {
    "colab_type": "text",
    "id": "4mkmxO4QFzTH"
   },
   "source": [
    "<div style='font-size:14pt' font-weight='bold'>Real world case 2</div><br>\n",
    "We ues kaggle dataset \"News Headlines Dataset For Sarcasm Detection\"<br>\n",
    "\n",
    "\n",
    "Each record consists of three attributes:\n",
    "<ul>\n",
    "<li>is_sarcastic: 1 if the record is sarcastic otherwise 0\n",
    "<li>headline: the headline of the news article\n",
    "<li>article_link: link to the original news article. Useful in collecting supplementary data\n",
    "</ul>\n",
    "references:<br>\n",
    "<a href='https://www.kaggle.com/rmisra/news-headlines-dataset-for-sarcasm-detection'>kaggle competition</a>"
   ]
  },
  {
   "cell_type": "markdown",
   "metadata": {
    "colab_type": "text",
    "id": "63esbJvBgsTY"
   },
   "source": [
    "<hr>"
   ]
  },
  {
   "cell_type": "markdown",
   "metadata": {
    "colab_type": "text",
    "id": "zxzRr7PEZ0sb"
   },
   "source": [
    "We save the kaggle zip file which is available <a href='https://www.kaggle.com/rmisra/news-headlines-dataset-for-sarcasm-detection'>here</a> (press download) to the google drive and thus want to mount on google drive from google colab. You can skip this steps if your are working on local environment or others.<br>\n",
    "<br>\n",
    "<a href='https://towardsdatascience.com/downloading-datasets-into-google-drive-via-google-colab-bcb1b30b0166'>Downloading Datasets into Google Drive via Google Colab</a>"
   ]
  },
  {
   "cell_type": "code",
   "execution_count": null,
   "metadata": {
    "colab": {},
    "colab_type": "code",
    "id": "XZt-6v5SNNrQ"
   },
   "outputs": [],
   "source": [
    "# Mount on google drive from google colab\n",
    "from google.colab import drive\n",
    "drive.mount('/content/gdrive')"
   ]
  },
  {
   "cell_type": "code",
   "execution_count": null,
   "metadata": {
    "colab": {},
    "colab_type": "code",
    "id": "e0IGkngvNN4f"
   },
   "outputs": [],
   "source": [
    "# Store the root path\n",
    "root_g_path = '/content/gdrive/My Drive/'"
   ]
  },
  {
   "cell_type": "code",
   "execution_count": null,
   "metadata": {
    "colab": {
     "base_uri": "https://localhost:8080/",
     "height": 83
    },
    "colab_type": "code",
    "executionInfo": {
     "elapsed": 985,
     "status": "ok",
     "timestamp": 1578027731556,
     "user": {
      "displayName": "hurumori lion",
      "photoUrl": "https://lh3.googleusercontent.com/a-/AAuE7mB429x4hji7j0YdZdDi44hPsWJyj4ENQAE2S_ob=s64",
      "userId": "15572795402390119545"
     },
     "user_tz": -540
    },
    "id": "JmXymp2wNOGm",
    "outputId": "fa61a580-18ec-4b8f-f1d4-ebdc80676196"
   },
   "outputs": [
    {
     "data": {
      "text/plain": [
       "['tokenziser_NLP.ipynb',\n",
       " 'news-headlines-dataset-for-sarcasm-detection.zip',\n",
       " 'Sarcasm_Headlines_Dataset.json',\n",
       " 'Sarcasm_Headlines_Dataset_v2.json']"
      ]
     },
     "execution_count": 4,
     "metadata": {
      "tags": []
     },
     "output_type": "execute_result"
    }
   ],
   "source": [
    "# After donwloading the kaggle zip file and saving it the google drive check the directory where the file is saved \n",
    "data_path = os.path.join(root_g_path,'Coursera_NLP') \n",
    "os.listdir(data_path)"
   ]
  },
  {
   "cell_type": "code",
   "execution_count": null,
   "metadata": {
    "colab": {},
    "colab_type": "code",
    "id": "aiIl5hEKNOBb"
   },
   "outputs": [],
   "source": [
    "# Unzip　the data\n",
    "local_zip = os.path.join(data_path,'news-headlines-dataset-for-sarcasm-detection.zip')\n",
    "zip_ref = zipfile.ZipFile(local_zip, 'r')\n",
    "zip_ref.extractall(data_path)\n",
    "zip_ref.close()"
   ]
  },
  {
   "cell_type": "code",
   "execution_count": null,
   "metadata": {
    "colab": {
     "base_uri": "https://localhost:8080/",
     "height": 83
    },
    "colab_type": "code",
    "executionInfo": {
     "elapsed": 1131,
     "status": "ok",
     "timestamp": 1578021992712,
     "user": {
      "displayName": "hurumori lion",
      "photoUrl": "https://lh3.googleusercontent.com/a-/AAuE7mB429x4hji7j0YdZdDi44hPsWJyj4ENQAE2S_ob=s64",
      "userId": "15572795402390119545"
     },
     "user_tz": -540
    },
    "id": "Ck5D7NCwNN0W",
    "outputId": "601b8169-31c2-4ac1-aa21-c520088d305c"
   },
   "outputs": [
    {
     "data": {
      "text/plain": [
       "['tokenziser_NLP.ipynb',\n",
       " 'news-headlines-dataset-for-sarcasm-detection.zip',\n",
       " 'Sarcasm_Headlines_Dataset.json',\n",
       " 'Sarcasm_Headlines_Dataset_v2.json']"
      ]
     },
     "execution_count": 90,
     "metadata": {
      "tags": []
     },
     "output_type": "execute_result"
    }
   ],
   "source": [
    "os.listdir(data_path)"
   ]
  },
  {
   "cell_type": "code",
   "execution_count": null,
   "metadata": {
    "colab": {},
    "colab_type": "code",
    "id": "mGyV-dTGNNlz"
   },
   "outputs": [],
   "source": [
    "file_path = os.path.join(data_path,'Sarcasm_Headlines_Dataset_v2.json')\n",
    "\n",
    "# Open the file and pass it json.load\n",
    "\n",
    "# The common way to read json file:\n",
    "# with open(file_path, 'r') as f:\n",
    "#   datasource = json.load(f)\n",
    "\n",
    "# In this case, Extra value error occurs\n",
    "# The next code works\n",
    "# See https://stackoverflow.com/questions/21058935/python-json-loads-shows-valueerror-extra-data\n",
    "datasource = [json.loads(line) for line in open(file_path, 'r')]"
   ]
  },
  {
   "cell_type": "code",
   "execution_count": null,
   "metadata": {
    "colab": {},
    "colab_type": "code",
    "id": "EZF8MGqXd9li"
   },
   "outputs": [],
   "source": [
    "# The dataset has three set of lists\n",
    "# Create three lists \n",
    "sentences = []\n",
    "labels = []\n",
    "urls = []\n",
    "\n",
    "# Iterate through the datasource and grab each item into list\n",
    "for item in datasource:\n",
    "  sentences.append(item['headline'])\n",
    "  labels.append(item['is_sarcastic'])\n",
    "  urls.append(item['article_link'])"
   ]
  },
  {
   "cell_type": "code",
   "execution_count": null,
   "metadata": {
    "colab": {
     "base_uri": "https://localhost:8080/",
     "height": 195
    },
    "colab_type": "code",
    "executionInfo": {
     "elapsed": 471,
     "status": "ok",
     "timestamp": 1578028306013,
     "user": {
      "displayName": "hurumori lion",
      "photoUrl": "https://lh3.googleusercontent.com/a-/AAuE7mB429x4hji7j0YdZdDi44hPsWJyj4ENQAE2S_ob=s64",
      "userId": "15572795402390119545"
     },
     "user_tz": -540
    },
    "id": "bx5Ng83cfaip",
    "outputId": "fd1fdaa3-bec2-4e12-f0bb-ab412f65b55f"
   },
   "outputs": [
    {
     "data": {
      "text/plain": [
       "['thirtysomething scientists unveil doomsday clock of hair loss',\n",
       " 'dem rep. totally nails why congress is falling short on gender, racial equality',\n",
       " 'eat your veggies: 9 deliciously different recipes',\n",
       " 'inclement weather prevents liar from getting to work',\n",
       " \"mother comes pretty close to using word 'streaming' correctly\",\n",
       " 'my white inheritance',\n",
       " '5 ways to file your taxes with less stress',\n",
       " \"richard branson's global-warming donation nearly as much as cost of failed balloon trips\",\n",
       " 'shadow government getting too large to meet in marriott conference room b',\n",
       " 'lots of parents know this scenario']"
      ]
     },
     "execution_count": 10,
     "metadata": {
      "tags": []
     },
     "output_type": "execute_result"
    }
   ],
   "source": [
    "sentences[:10]"
   ]
  },
  {
   "cell_type": "code",
   "execution_count": null,
   "metadata": {
    "colab": {
     "base_uri": "https://localhost:8080/",
     "height": 355
    },
    "colab_type": "code",
    "executionInfo": {
     "elapsed": 2129,
     "status": "ok",
     "timestamp": 1578029144037,
     "user": {
      "displayName": "hurumori lion",
      "photoUrl": "https://lh3.googleusercontent.com/a-/AAuE7mB429x4hji7j0YdZdDi44hPsWJyj4ENQAE2S_ob=s64",
      "userId": "15572795402390119545"
     },
     "user_tz": -540
    },
    "id": "utChiG3jc15r",
    "outputId": "58451b51-fa74-4caa-aeb7-394fb903c1ad"
   },
   "outputs": [
    {
     "name": "stdout",
     "output_type": "stream",
     "text": [
      "30885 \n",
      "\n",
      "thirtysomething scientists unveil doomsday clock of hair loss \n",
      "\n",
      "[16004   355  3167  7474  2644     3   661  1119     0     0     0     0\n",
      "     0     0     0     0     0     0     0     0     0     0     0     0\n",
      "     0     0     0     0     0     0     0     0     0     0     0     0\n",
      "     0     0     0     0     0     0     0     0     0     0     0     0\n",
      "     0     0     0     0     0     0     0     0     0     0     0     0\n",
      "     0     0     0     0     0     0     0     0     0     0     0     0\n",
      "     0     0     0     0     0     0     0     0     0     0     0     0\n",
      "     0     0     0     0     0     0     0     0     0     0     0     0\n",
      "     0     0     0     0     0     0     0     0     0     0     0     0\n",
      "     0     0     0     0     0     0     0     0     0     0     0     0\n",
      "     0     0     0     0     0     0     0     0     0     0     0     0\n",
      "     0     0     0     0     0     0     0     0     0     0     0     0\n",
      "     0     0     0     0     0     0     0     0] \n",
      "\n",
      "(28619, 152)\n"
     ]
    }
   ],
   "source": [
    "from tensorflow.keras.preprocessing.text import Tokenizer \n",
    "from tensorflow.keras.preprocessing.sequence import pad_sequences\n",
    "\n",
    "\n",
    "# Create a instance of tokenizer object\n",
    "tokenizer = Tokenizer(oov_token='<OOV>') \n",
    "\n",
    "# Call .fit_on_texts to generate word index. This step is called tokenize\n",
    "tokenizer.fit_on_texts(sentences)\n",
    "\n",
    "# Grab .word_index property of tokenizer\n",
    "# This retunrns a dictionary with key being the word and value being the encoded token \n",
    "word_index = tokenizer.word_index\n",
    "\n",
    "# Turn the list of all sentences into a list of sequence of numbers. This step is called encoding\n",
    "sequences = tokenizer.texts_to_sequences(sentences)\n",
    "\n",
    "# Pass the sequences to pad_sequences object\n",
    "# The sentences will be post-padded here\n",
    "padded = pad_sequences(sequences,padding='post')\n",
    "\n",
    "\n",
    "# Length of word_index\n",
    "print(len(word_index), '\\n')\n",
    "\n",
    "# The first sentence\n",
    "print(sentences[0], '\\n')\n",
    "\n",
    "# See the first padded matrix\n",
    "print(padded[0], '\\n')\n",
    "\n",
    "# Each sentences is padded up to 152\n",
    "# 152 is the longest sentence. We do not truncate here\n",
    "print(padded.shape)"
   ]
  },
  {
   "cell_type": "markdown",
   "metadata": {
    "colab_type": "text",
    "id": "onvE06hSVecT"
   },
   "source": [
    "<hr>"
   ]
  },
  {
   "cell_type": "markdown",
   "metadata": {
    "colab_type": "text",
    "id": "cekRfeyDYvYZ"
   },
   "source": [
    "<div style='font-size:14pt' font-weight='bold'>Introduction to Tokenizing and Embedding </div>\n",
    "Part 2. Embedding<br><br>\n",
    "Embedding is a process of extracting sentiment from words. By embedding, the words are represented as vectors in a multi-dimensional space. In a sentiment classification problem, vectors of words are clustered to each sentiment.\n",
    "We want to use IMBD data set which is one of the built-in data sets of TensorFlow Data Services. It has 50,000 movie reviews which are categorized as  either positive or negative.<br><br>\n",
    "The original data was authored by Andrew Mass:  <a href='https://ai.stanford.edu/~amaas/data/sentiment/'>link to the site</a> "
   ]
  },
  {
   "cell_type": "code",
   "execution_count": null,
   "metadata": {
    "colab": {
     "base_uri": "https://localhost:8080/",
     "height": 35
    },
    "colab_type": "code",
    "executionInfo": {
     "elapsed": 992,
     "status": "ok",
     "timestamp": 1578039502717,
     "user": {
      "displayName": "hurumori lion",
      "photoUrl": "https://lh3.googleusercontent.com/a-/AAuE7mB429x4hji7j0YdZdDi44hPsWJyj4ENQAE2S_ob=s64",
      "userId": "15572795402390119545"
     },
     "user_tz": -540
    },
    "id": "wzvYDs7VYuLe",
    "outputId": "fdb35704-3dc4-4164-b57f-e72664172c9d"
   },
   "outputs": [
    {
     "name": "stdout",
     "output_type": "stream",
     "text": [
      "2.0.0\n"
     ]
    }
   ],
   "source": [
    "print(tf.__version__)"
   ]
  },
  {
   "cell_type": "code",
   "execution_count": null,
   "metadata": {
    "colab": {
     "base_uri": "https://localhost:8080/",
     "height": 35
    },
    "colab_type": "code",
    "executionInfo": {
     "elapsed": 1080,
     "status": "ok",
     "timestamp": 1578040708056,
     "user": {
      "displayName": "hurumori lion",
      "photoUrl": "https://lh3.googleusercontent.com/a-/AAuE7mB429x4hji7j0YdZdDi44hPsWJyj4ENQAE2S_ob=s64",
      "userId": "15572795402390119545"
     },
     "user_tz": -540
    },
    "id": "iCT0Se7tjj2M",
    "outputId": "cd862a1f-a29b-470e-8d2f-548eba23701f"
   },
   "outputs": [
    {
     "name": "stdout",
     "output_type": "stream",
     "text": [
      "3.6.9\n"
     ]
    }
   ],
   "source": [
    "from platform import python_version\n",
    "print(python_version())"
   ]
  },
  {
   "cell_type": "code",
   "execution_count": null,
   "metadata": {
    "colab": {},
    "colab_type": "code",
    "id": "0cfn_6_Ie-Ev"
   },
   "outputs": [],
   "source": [
    "# install tensorflow dataset if you are not using google colab\n",
    "# ! pip install -q tensorflow-datasets"
   ]
  },
  {
   "cell_type": "markdown",
   "metadata": {
    "colab_type": "text",
    "id": "4FplmEwul8U9"
   },
   "source": [
    "<hr>"
   ]
  },
  {
   "cell_type": "markdown",
   "metadata": {
    "colab_type": "text",
    "id": "W3cVQcNxl1OZ"
   },
   "source": [
    "<div style='font-size:12pt' font-weight='bold'>Load the data\n",
    "</div><br>"
   ]
  },
  {
   "cell_type": "code",
   "execution_count": null,
   "metadata": {
    "colab": {},
    "colab_type": "code",
    "id": "4T7O2S16fWWE"
   },
   "outputs": [],
   "source": [
    "import tensorflow_datasets as tfds\n",
    "imbd, info = tfds.load(\"imdb_reviews\", with_info=True, as_supervised=True)"
   ]
  },
  {
   "cell_type": "code",
   "execution_count": 4,
   "metadata": {
    "colab": {
     "base_uri": "https://localhost:8080/",
     "height": 33
    },
    "colab_type": "code",
    "executionInfo": {
     "elapsed": 954,
     "status": "ok",
     "timestamp": 1578117098061,
     "user": {
      "displayName": "hurumori lion",
      "photoUrl": "https://lh3.googleusercontent.com/a-/AAuE7mB429x4hji7j0YdZdDi44hPsWJyj4ENQAE2S_ob=s64",
      "userId": "15572795402390119545"
     },
     "user_tz": -540
    },
    "id": "_Q1ioCClg8rG",
    "outputId": "f2b5922d-4c73-4d60-f71a-9e2143701992"
   },
   "outputs": [
    {
     "data": {
      "text/plain": [
       "dict"
      ]
     },
     "execution_count": 4,
     "metadata": {
      "tags": []
     },
     "output_type": "execute_result"
    }
   ],
   "source": [
    "type(imbd)"
   ]
  },
  {
   "cell_type": "code",
   "execution_count": null,
   "metadata": {
    "colab": {},
    "colab_type": "code",
    "id": "cPoGQNTvf14p"
   },
   "outputs": [],
   "source": [
    "# Split the data into training and test\n",
    "train_data, test_data = imbd['train'], imbd['test']"
   ]
  },
  {
   "cell_type": "code",
   "execution_count": 6,
   "metadata": {
    "colab": {
     "base_uri": "https://localhost:8080/",
     "height": 33
    },
    "colab_type": "code",
    "executionInfo": {
     "elapsed": 519,
     "status": "ok",
     "timestamp": 1578117101627,
     "user": {
      "displayName": "hurumori lion",
      "photoUrl": "https://lh3.googleusercontent.com/a-/AAuE7mB429x4hji7j0YdZdDi44hPsWJyj4ENQAE2S_ob=s64",
      "userId": "15572795402390119545"
     },
     "user_tz": -540
    },
    "id": "C39cMftUh4jm",
    "outputId": "6dd57387-d4e6-4275-dbec-11a20f5b136e"
   },
   "outputs": [
    {
     "data": {
      "text/plain": [
       "tensorflow.python.data.ops.dataset_ops._OptionsDataset"
      ]
     },
     "execution_count": 6,
     "metadata": {
      "tags": []
     },
     "output_type": "execute_result"
    }
   ],
   "source": [
    "type(train_data)"
   ]
  },
  {
   "cell_type": "code",
   "execution_count": null,
   "metadata": {
    "colab": {},
    "colab_type": "code",
    "id": "qUFWkbtBg-z8"
   },
   "outputs": [],
   "source": [
    "# Define the list containing sentences\n",
    "training_sentences = []\n",
    "training_labels = []\n",
    "\n",
    "testing_sentences = []\n",
    "testing_labels = []\n",
    "\n",
    "\n",
    "# Iterate over training data and extract the sentences and labels\n",
    "# s and l are tensors. We need to call numpy method to extract the value\n",
    "for s,l in train_data:\n",
    "  training_sentences.append(str(s.numpy())) \n",
    "  training_labels.append(l.numpy())\n",
    "\n",
    "# Iterate over test data  \n",
    "for s,l in test_data:\n",
    "  testing_sentences.append(str(s.numpy()))\n",
    "  testing_labels.append(l.numpy())\n",
    "  \n",
    "\n",
    "# In training the labels are expected to be numpy arrays  \n",
    "training_labels_final = np.array(training_labels)\n",
    "testing_labels_final = np.array(testing_labels)"
   ]
  },
  {
   "cell_type": "markdown",
   "metadata": {
    "colab_type": "text",
    "id": "ZI4NySAUmEx8"
   },
   "source": [
    "<hr>"
   ]
  },
  {
   "cell_type": "markdown",
   "metadata": {
    "colab_type": "text",
    "id": "FU0B9u8HmHkk"
   },
   "source": [
    "<div style='font-size:12pt' font-weight='bold'>Embedding</div><br>\n",
    "Tokenized number of the words have no meaning in its relative distance in value. The number 1 and number 2 are close, but the words represented by 1 and 2 are arbitrary. Word embeddings is a way of representing tokenized words in a vector space i.e., 16-dimensional vector space, such that words with the same/similar meaning are clustered in the space. Machine learning algorithm learns the vector from the labeled training set. "
   ]
  },
  {
   "cell_type": "code",
   "execution_count": null,
   "metadata": {
    "colab": {},
    "colab_type": "code",
    "id": "YcML8IXviWy-"
   },
   "outputs": [],
   "source": [
    "# Tokenize the training sentences before learning embedding vectors\n",
    "\n",
    "# Hyperparameters\n",
    "vocab_size = 10000\n",
    "embedding_dim = 16\n",
    "max_length = 120\n",
    "trunc_type='post'\n",
    "oov_tok = \"<OOV>\"\n",
    "\n",
    "tokenizer = Tokenizer(num_words = vocab_size, oov_token=oov_tok) # Create a instance\n",
    "tokenizer.fit_on_texts(training_sentences) # fit the tokenizer on the data\n",
    "word_index = tokenizer.word_index \n",
    "sequences = tokenizer.texts_to_sequences(training_sentences) # replaces the words with the token values\n",
    "padded = pad_sequences(sequences,maxlen=max_length, truncating=trunc_type) # pad and truncate\n",
    "\n",
    "# Do the same for testing sequences\n",
    "# The words index are derived from the training set\n",
    "testing_sequences = tokenizer.texts_to_sequences(testing_sentences)\n",
    "testing_padded = pad_sequences(testing_sequences,maxlen=max_length)"
   ]
  },
  {
   "cell_type": "code",
   "execution_count": 24,
   "metadata": {
    "colab": {
     "base_uri": "https://localhost:8080/",
     "height": 70
    },
    "colab_type": "code",
    "executionInfo": {
     "elapsed": 614,
     "status": "ok",
     "timestamp": 1578121910165,
     "user": {
      "displayName": "hurumori lion",
      "photoUrl": "https://lh3.googleusercontent.com/a-/AAuE7mB429x4hji7j0YdZdDi44hPsWJyj4ENQAE2S_ob=s64",
      "userId": "15572795402390119545"
     },
     "user_tz": -540
    },
    "id": "7lE-YV9sZS-E",
    "outputId": "09598ae8-2534-47ee-bdfe-9474a5eb0a93"
   },
   "outputs": [
    {
     "name": "stdout",
     "output_type": "stream",
     "text": [
      "b oh yeah jenna jameson did it again yeah baby this movie rocks it was one of the 1st movies i saw of her and i have to say i feel in love with her she was great in this move br br her performance was outstanding and what i liked the most was the scenery and the wardrobe it was amazing you can tell that they put a lot into the movie the girls cloth were amazing br br i hope this comment helps and u can buy the movie the storyline is awesome is very unique and i'm sure u are going to like it jenna amazed us once more and no wonder the movie won so many\n",
      "b\"Oh yeah! Jenna Jameson did it again! Yeah Baby! This movie rocks. It was one of the 1st movies i saw of her. And i have to say i feel in love with her, she was great in this move.<br /><br />Her performance was outstanding and what i liked the most was the scenery and the wardrobe it was amazing you can tell that they put a lot into the movie the girls cloth were amazing.<br /><br />I hope this comment helps and u can buy the movie, the storyline is awesome is very unique and i'm sure u are going to like it. Jenna amazed us once more and no wonder the movie won so many awards. Her make-up and wardrobe is very very sexy and the girls on girls scene is amazing. specially the one where she looks like an angel. It's a must see and i hope u share my interests\"\n"
     ]
    }
   ],
   "source": [
    "# A function o reverse the word index, used later\n",
    "reverse_word_index = dict([(value, key) for (key, value) in word_index.items()])\n",
    "\n",
    "def decode_review(text):\n",
    "    return ' '.join([reverse_word_index.get(i, '?') for i in text])\n",
    "\n",
    "print(decode_review(padded[1]))\n",
    "print(training_sentences[1])"
   ]
  },
  {
   "cell_type": "markdown",
   "metadata": {
    "colab_type": "text",
    "id": "qglPxFJomNR9"
   },
   "source": [
    "<hr>"
   ]
  },
  {
   "cell_type": "markdown",
   "metadata": {
    "colab_type": "text",
    "id": "LAYQUozXmPWp"
   },
   "source": [
    "<div style='font-size:12pt' font-weight='bold'>Define the model\n",
    "</div><br>"
   ]
  },
  {
   "cell_type": "code",
   "execution_count": null,
   "metadata": {
    "colab": {},
    "colab_type": "code",
    "id": "V8jUpapKkmbN"
   },
   "outputs": [],
   "source": [
    "# Define a model\n",
    "model = tf.keras.Sequential([\n",
    "        #  Embedding layer outputs 2D array(max length of the sentence times embedding dimension)                     \n",
    "        tf.keras.layers.Embedding(vocab_size, embedding_dim, input_length=max_length),  \n",
    "\n",
    "        # Flatten the 2D array \n",
    "        tf.keras.layers.Flatten(),  \n",
    "        tf.keras.layers.Dense(6,activation='relu'),\n",
    "        tf.keras.layers.Dense(1,activation='sigmoid')                     \n",
    "])\n",
    "\n",
    "# Compile the model\n",
    "model.compile(loss='binary_crossentropy',optimizer='adam',metrics=['accuracy'])"
   ]
  },
  {
   "cell_type": "code",
   "execution_count": 20,
   "metadata": {
    "colab": {
     "base_uri": "https://localhost:8080/",
     "height": 283
    },
    "colab_type": "code",
    "executionInfo": {
     "elapsed": 857,
     "status": "ok",
     "timestamp": 1578121424863,
     "user": {
      "displayName": "hurumori lion",
      "photoUrl": "https://lh3.googleusercontent.com/a-/AAuE7mB429x4hji7j0YdZdDi44hPsWJyj4ENQAE2S_ob=s64",
      "userId": "15572795402390119545"
     },
     "user_tz": -540
    },
    "id": "CNlFqolnHvAm",
    "outputId": "32fc3c09-414c-4022-9fbf-110dfbe2ecb2"
   },
   "outputs": [
    {
     "name": "stdout",
     "output_type": "stream",
     "text": [
      "Model: \"sequential_2\"\n",
      "_________________________________________________________________\n",
      "Layer (type)                 Output Shape              Param #   \n",
      "=================================================================\n",
      "embedding_3 (Embedding)      (None, 120, 16)           160000    \n",
      "_________________________________________________________________\n",
      "flatten_2 (Flatten)          (None, 1920)              0         \n",
      "_________________________________________________________________\n",
      "dense_4 (Dense)              (None, 6)                 11526     \n",
      "_________________________________________________________________\n",
      "dense_5 (Dense)              (None, 1)                 7         \n",
      "=================================================================\n",
      "Total params: 171,533\n",
      "Trainable params: 171,533\n",
      "Non-trainable params: 0\n",
      "_________________________________________________________________\n"
     ]
    }
   ],
   "source": [
    "model.summary()"
   ]
  },
  {
   "cell_type": "code",
   "execution_count": 21,
   "metadata": {
    "colab": {
     "base_uri": "https://localhost:8080/",
     "height": 383
    },
    "colab_type": "code",
    "executionInfo": {
     "elapsed": 57123,
     "status": "ok",
     "timestamp": 1578121483705,
     "user": {
      "displayName": "hurumori lion",
      "photoUrl": "https://lh3.googleusercontent.com/a-/AAuE7mB429x4hji7j0YdZdDi44hPsWJyj4ENQAE2S_ob=s64",
      "userId": "15572795402390119545"
     },
     "user_tz": -540
    },
    "id": "rJkrOMZZXRZm",
    "outputId": "f2ab06ed-cf1d-477c-e131-24cd21937e1b"
   },
   "outputs": [
    {
     "name": "stdout",
     "output_type": "stream",
     "text": [
      "Train on 25000 samples, validate on 25000 samples\n",
      "Epoch 1/10\n",
      "25000/25000 [==============================] - 7s 261us/sample - loss: 0.4953 - accuracy: 0.7371 - val_loss: 0.3475 - val_accuracy: 0.8476\n",
      "Epoch 2/10\n",
      "25000/25000 [==============================] - 5s 217us/sample - loss: 0.2392 - accuracy: 0.9080 - val_loss: 0.3715 - val_accuracy: 0.8372\n",
      "Epoch 3/10\n",
      "25000/25000 [==============================] - 5s 219us/sample - loss: 0.0936 - accuracy: 0.9767 - val_loss: 0.4485 - val_accuracy: 0.8224\n",
      "Epoch 4/10\n",
      "25000/25000 [==============================] - 5s 220us/sample - loss: 0.0225 - accuracy: 0.9970 - val_loss: 0.5313 - val_accuracy: 0.8222\n",
      "Epoch 5/10\n",
      "25000/25000 [==============================] - 5s 216us/sample - loss: 0.0051 - accuracy: 0.9997 - val_loss: 0.5922 - val_accuracy: 0.8248\n",
      "Epoch 6/10\n",
      "25000/25000 [==============================] - 5s 219us/sample - loss: 0.0017 - accuracy: 1.0000 - val_loss: 0.6385 - val_accuracy: 0.8263\n",
      "Epoch 7/10\n",
      "25000/25000 [==============================] - 5s 217us/sample - loss: 8.2035e-04 - accuracy: 1.0000 - val_loss: 0.6810 - val_accuracy: 0.8260\n",
      "Epoch 8/10\n",
      "25000/25000 [==============================] - 5s 219us/sample - loss: 4.4598e-04 - accuracy: 1.0000 - val_loss: 0.7188 - val_accuracy: 0.8271\n",
      "Epoch 9/10\n",
      "25000/25000 [==============================] - 6s 223us/sample - loss: 2.6107e-04 - accuracy: 1.0000 - val_loss: 0.7561 - val_accuracy: 0.8266\n",
      "Epoch 10/10\n",
      "25000/25000 [==============================] - 5s 218us/sample - loss: 1.5893e-04 - accuracy: 1.0000 - val_loss: 0.7916 - val_accuracy: 0.8274\n"
     ]
    },
    {
     "data": {
      "text/plain": [
       "<tensorflow.python.keras.callbacks.History at 0x7f4eb7f33048>"
      ]
     },
     "execution_count": 21,
     "metadata": {
      "tags": []
     },
     "output_type": "execute_result"
    }
   ],
   "source": [
    "# Fit the model\n",
    "# 100% accuracy in the training set and 83% accuracy in the validation set. There is a chance of overfitting.\n",
    "num_epochs = 10\n",
    "model.fit(padded, training_labels_final, epochs=num_epochs, validation_data=(testing_padded, testing_labels_final))"
   ]
  },
  {
   "cell_type": "code",
   "execution_count": 22,
   "metadata": {
    "colab": {
     "base_uri": "https://localhost:8080/",
     "height": 33
    },
    "colab_type": "code",
    "executionInfo": {
     "elapsed": 633,
     "status": "ok",
     "timestamp": 1578121494528,
     "user": {
      "displayName": "hurumori lion",
      "photoUrl": "https://lh3.googleusercontent.com/a-/AAuE7mB429x4hji7j0YdZdDi44hPsWJyj4ENQAE2S_ob=s64",
      "userId": "15572795402390119545"
     },
     "user_tz": -540
    },
    "id": "EMAOM4AFXmku",
    "outputId": "13996ffb-6c91-41b0-fc69-c78781295fde"
   },
   "outputs": [
    {
     "name": "stdout",
     "output_type": "stream",
     "text": [
      "(10000, 16)\n"
     ]
    }
   ],
   "source": [
    "# Get the results of the embedding layer\n",
    "e = model.layers[0]\n",
    "weights = e.get_weights()[0]\n",
    "print(weights.shape) # shape: (vocab_size, embedding_dim)"
   ]
  },
  {
   "cell_type": "markdown",
   "metadata": {
    "colab_type": "text",
    "id": "NOerKyj0br_8"
   },
   "source": [
    "We can see tha there are 10,000 words in the corpus projected on to a 16-dimensional array. The training and testing are down. The followings are for visulazing the embedding vector."
   ]
  },
  {
   "cell_type": "code",
   "execution_count": null,
   "metadata": {
    "colab": {},
    "colab_type": "code",
    "id": "PoI-VP_jXuGu"
   },
   "outputs": [],
   "source": [
    "# Files for projecting embedding vectors to 3D space \n",
    "\n",
    "import io\n",
    "\n",
    "out_v = io.open('vecs.tsv', 'w', encoding='utf-8')\n",
    "out_m = io.open('meta.tsv', 'w', encoding='utf-8')\n",
    "for word_num in range(1, vocab_size):\n",
    "  word = reverse_word_index[word_num]\n",
    "  embeddings = weights[word_num]\n",
    "  out_m.write(word + \"\\n\")\n",
    "  out_v.write('\\t'.join([str(x) for x in embeddings]) + \"\\n\")\n",
    "out_v.close()\n",
    "out_m.close()"
   ]
  },
  {
   "cell_type": "code",
   "execution_count": null,
   "metadata": {
    "colab": {},
    "colab_type": "code",
    "id": "1OA1Dw5nZeJN"
   },
   "outputs": [],
   "source": [
    "# Downlad the files\n",
    "try:\n",
    "  from google.colab import files\n",
    "except ImportError:\n",
    "  pass\n",
    "else:\n",
    "  files.download('vecs.tsv')\n",
    "  files.download('meta.tsv')"
   ]
  },
  {
   "cell_type": "markdown",
   "metadata": {
    "colab_type": "text",
    "id": "FCdHQKGOchiV"
   },
   "source": [
    "You can go to the <a href='https://projector.tensorflow.org/'>tensorflow Embedding projector</a> to visularize the 3D vector file (reducing 16 to 3 is by PCA). Press the load button and upload vecs.tsv and meta.tsv. Click the 'Sphereize data' and you can see the clustered words in sphere. Below is a screen shot."
   ]
  },
  {
   "cell_type": "code",
   "execution_count": 3,
   "metadata": {
    "colab": {},
    "colab_type": "code",
    "id": "u2XH7o7HgpQd"
   },
   "outputs": [
    {
     "data": {
      "image/png": "[encoded data removed]",
      "text/plain": [
       "<IPython.core.display.Image object>"
      ]
     },
     "execution_count": 3,
     "metadata": {
      "image/png": {
       "width": 1000
      }
     },
     "output_type": "execute_result"
    }
   ],
   "source": [
    "from IPython.display import Image\n",
    "Image(filename='3D_visualize.png',width=1000) "
   ]
  },
  {
   "cell_type": "code",
   "execution_count": 27,
   "metadata": {
    "colab": {
     "base_uri": "https://localhost:8080/",
     "height": 53
    },
    "colab_type": "code",
    "executionInfo": {
     "elapsed": 826,
     "status": "ok",
     "timestamp": 1578122001337,
     "user": {
      "displayName": "hurumori lion",
      "photoUrl": "https://lh3.googleusercontent.com/a-/AAuE7mB429x4hji7j0YdZdDi44hPsWJyj4ENQAE2S_ob=s64",
      "userId": "15572795402390119545"
     },
     "user_tz": -540
    },
    "id": "zJRAGVNiZjDR",
    "outputId": "352025fa-c57b-4275-e3df-b55c3b0393ed"
   },
   "outputs": [
    {
     "name": "stdout",
     "output_type": "stream",
     "text": [
      "[[11], [], [1430], [968], [4], [1537], [1537], [4738], [], [790], [2015], [11], [2922], [2191], [], [790], [2015], [11], [579], [], [11], [579], [], [4], [1783], [4], [4508], [11], [2922], [1277], [], [], [2015], [1005], [2922], [968], [579], [790], []]\n"
     ]
    }
   ],
   "source": [
    "sentence = \"I really think this is amazing. honest.\"\n",
    "sequence = tokenizer.texts_to_sequences(sentence)\n",
    "print(sequence)"
   ]
  },
  {
   "cell_type": "markdown",
   "metadata": {
    "colab_type": "text",
    "id": "iGCJiVOkZ31U"
   },
   "source": [
    "<hr>"
   ]
  },
  {
   "cell_type": "code",
   "execution_count": null,
   "metadata": {
    "colab": {},
    "colab_type": "code",
    "id": "9RknCUsnReRi"
   },
   "outputs": [],
   "source": [
    "# Alternative for the flatten layer\n",
    "model = tf.keras.Sequential([\n",
    "        #  Embedding layer outputs 2D array(max length of the sentence times embedding dimension)                     \n",
    "        tf.keras.layers.Embedding(vocab_size, embedding_dim, input_length=max_length),  \n",
    "\n",
    "        # This layer averages across the vector to flatten. This has a fewer parameters than flatten. \n",
    "        tf.keras.layers.GlobalAveragePooling1D(),\n",
    "        tf.keras.layers.Flatten(),  \n",
    "        tf.keras.layers.Dense(6,activation='relu'),\n",
    "        tf.keras.layers.Dense(1,activation='sigmoid')                     \n",
    "])\n",
    "\n",
    "\n",
    "# Compile the model\n",
    "model.compile(loss='binary_crossentropy',optimizer='adam',metrics=['accuracy'])"
   ]
  },
  {
   "cell_type": "code",
   "execution_count": 29,
   "metadata": {
    "colab": {
     "base_uri": "https://localhost:8080/",
     "height": 317
    },
    "colab_type": "code",
    "executionInfo": {
     "elapsed": 764,
     "status": "ok",
     "timestamp": 1578122117431,
     "user": {
      "displayName": "hurumori lion",
      "photoUrl": "https://lh3.googleusercontent.com/a-/AAuE7mB429x4hji7j0YdZdDi44hPsWJyj4ENQAE2S_ob=s64",
      "userId": "15572795402390119545"
     },
     "user_tz": -540
    },
    "id": "nQTEmcfzSxV_",
    "outputId": "0f05eca4-790f-4d4a-feb3-590e632d2b7e"
   },
   "outputs": [
    {
     "name": "stdout",
     "output_type": "stream",
     "text": [
      "Model: \"sequential_3\"\n",
      "_________________________________________________________________\n",
      "Layer (type)                 Output Shape              Param #   \n",
      "=================================================================\n",
      "embedding_4 (Embedding)      (None, 120, 16)           160000    \n",
      "_________________________________________________________________\n",
      "global_average_pooling1d_1 ( (None, 16)                0         \n",
      "_________________________________________________________________\n",
      "flatten_3 (Flatten)          (None, 16)                0         \n",
      "_________________________________________________________________\n",
      "dense_6 (Dense)              (None, 6)                 102       \n",
      "_________________________________________________________________\n",
      "dense_7 (Dense)              (None, 1)                 7         \n",
      "=================================================================\n",
      "Total params: 160,109\n",
      "Trainable params: 160,109\n",
      "Non-trainable params: 0\n",
      "_________________________________________________________________\n"
     ]
    }
   ],
   "source": [
    "model.summary()"
   ]
  },
  {
   "cell_type": "code",
   "execution_count": 30,
   "metadata": {
    "colab": {
     "base_uri": "https://localhost:8080/",
     "height": 383
    },
    "colab_type": "code",
    "executionInfo": {
     "elapsed": 52955,
     "status": "ok",
     "timestamp": 1578122186981,
     "user": {
      "displayName": "hurumori lion",
      "photoUrl": "https://lh3.googleusercontent.com/a-/AAuE7mB429x4hji7j0YdZdDi44hPsWJyj4ENQAE2S_ob=s64",
      "userId": "15572795402390119545"
     },
     "user_tz": -540
    },
    "id": "plShOKtaSzLC",
    "outputId": "586dac20-e6d4-442f-9958-7a284cd6bb7d"
   },
   "outputs": [
    {
     "name": "stdout",
     "output_type": "stream",
     "text": [
      "Train on 25000 samples, validate on 25000 samples\n",
      "Epoch 1/10\n",
      "25000/25000 [==============================] - 6s 224us/sample - loss: 0.5435 - accuracy: 0.7620 - val_loss: 0.3784 - val_accuracy: 0.8442\n",
      "Epoch 2/10\n",
      "25000/25000 [==============================] - 5s 202us/sample - loss: 0.3281 - accuracy: 0.8635 - val_loss: 0.3303 - val_accuracy: 0.8588\n",
      "Epoch 3/10\n",
      "25000/25000 [==============================] - 5s 202us/sample - loss: 0.2673 - accuracy: 0.8908 - val_loss: 0.3351 - val_accuracy: 0.8552\n",
      "Epoch 4/10\n",
      "25000/25000 [==============================] - 5s 207us/sample - loss: 0.2321 - accuracy: 0.9110 - val_loss: 0.3470 - val_accuracy: 0.8519\n",
      "Epoch 5/10\n",
      "25000/25000 [==============================] - 5s 206us/sample - loss: 0.2061 - accuracy: 0.9216 - val_loss: 0.3760 - val_accuracy: 0.8438\n",
      "Epoch 6/10\n",
      "25000/25000 [==============================] - 5s 207us/sample - loss: 0.1850 - accuracy: 0.9332 - val_loss: 0.3984 - val_accuracy: 0.8403\n",
      "Epoch 7/10\n",
      "25000/25000 [==============================] - 5s 210us/sample - loss: 0.1682 - accuracy: 0.9391 - val_loss: 0.4302 - val_accuracy: 0.8330\n",
      "Epoch 8/10\n",
      "25000/25000 [==============================] - 5s 207us/sample - loss: 0.1532 - accuracy: 0.9472 - val_loss: 0.4783 - val_accuracy: 0.8242\n",
      "Epoch 9/10\n",
      "25000/25000 [==============================] - 5s 208us/sample - loss: 0.1401 - accuracy: 0.9513 - val_loss: 0.4989 - val_accuracy: 0.8265\n",
      "Epoch 10/10\n",
      "25000/25000 [==============================] - 5s 208us/sample - loss: 0.1275 - accuracy: 0.9573 - val_loss: 0.5381 - val_accuracy: 0.8225\n"
     ]
    },
    {
     "data": {
      "text/plain": [
       "<tensorflow.python.keras.callbacks.History at 0x7f4eb78a69e8>"
      ]
     },
     "execution_count": 30,
     "metadata": {
      "tags": []
     },
     "output_type": "execute_result"
    }
   ],
   "source": [
    "# Fit the model (Faster than flatten)\n",
    "# Achieved 95.7% accuracy in the training set and 82% accuracy in the validation set\n",
    "num_epochs = 10\n",
    "model.fit(padded, training_labels_final, epochs=num_epochs, validation_data=(testing_padded, testing_labels_final))"
   ]
  },
  {
   "cell_type": "markdown",
   "metadata": {
    "colab_type": "text",
    "id": "7gpIIXs9ftS-"
   },
   "source": [
    "<hr>"
   ]
  }
 ],
 "metadata": {
  "colab": {
   "collapsed_sections": [],
   "name": "NLP_tokenizing_embedding.ipynb",
   "provenance": []
  },
  "kernelspec": {
   "display_name": "Python 3",
   "language": "python",
   "name": "python3"
  },
  "language_info": {
   "codemirror_mode": {
    "name": "ipython",
    "version": 3
   },
   "file_extension": ".py",
   "mimetype": "text/x-python",
   "name": "python",
   "nbconvert_exporter": "python",
   "pygments_lexer": "ipython3",
   "version": "3.6.5"
  }
 },
 "nbformat": 4,
 "nbformat_minor": 2
}
